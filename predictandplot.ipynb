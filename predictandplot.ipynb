{
 "cells": [
  {
   "cell_type": "code",
   "execution_count": 7,
   "metadata": {},
   "outputs": [
    {
     "name": "stdout",
     "output_type": "stream",
     "text": [
      "/Users/sethblum/Library/CloudStorage/OneDrive-MassachusettsInstituteofTechnology/Courses/1C51/project-repo/FinalProject_1.C01\n"
     ]
    }
   ],
   "source": [
    "import numpy as np\n",
    "import pandas as pd\n",
    "from keras.models import load_model\n",
    "from keras.models import Sequential\n",
    "from keras.layers import Bidirectional, LSTM, Dropout, Dense\n",
    "from keras.optimizers import Adam\n",
    "from sklearn.preprocessing import MinMaxScaler\n",
    "from sklearn.preprocessing import StandardScaler\n",
    "from sklearn.preprocessing import OneHotEncoder\n",
    "from sklearn.model_selection import train_test_split\n",
    "from sklearn.metrics import mean_squared_error\n",
    "from sklearn.metrics import root_mean_squared_error\n",
    "from sklearn.metrics import accuracy_score\n",
    "from sklearn.metrics import mean_absolute_error, mean_squared_error, r2_score\n",
    "from keras.regularizers import l2\n",
    "import matplotlib.pyplot as plt\n",
    "from keras.preprocessing.sequence import TimeseriesGenerator\n",
    "import datetime as dt\n",
    "import dill\n",
    "# Check current directory\n",
    "import os\n",
    "print(os.getcwd())"
   ]
  },
  {
   "cell_type": "code",
   "execution_count": 8,
   "metadata": {},
   "outputs": [],
   "source": [
    "modelpath = 'Model_Outputs/model_BiLSTM_3layers_2024-04-29 12:25:08.646974.keras'\n",
    "model = load_model(modelpath)\n"
   ]
  },
  {
   "cell_type": "code",
   "execution_count": 9,
   "metadata": {},
   "outputs": [],
   "source": [
    "scalerX = dill.load(open('Xscaler.pkl', 'rb'))\n",
    "scalerY = dill.load(open('Yscaler.pkl', 'rb'))\n",
    "# Load the data\n",
    "X_train_encoded = dill.load(open('X_train_encoded.pkl', 'rb'))\n",
    "X_test_encoded = dill.load(open('X_test_encoded.pkl', 'rb'))\n",
    "y_train_encoded = dill.load(open('y_train_encoded.pkl', 'rb'))\n",
    "y_test_encoded = dill.load(open('y_test_encoded.pkl', 'rb'))\n",
    "# TODO need to add\n",
    "y_test_notscaled = dill.load(open('raw_y_test.pkl', 'rb'))"
   ]
  },
  {
   "cell_type": "code",
   "execution_count": null,
   "metadata": {},
   "outputs": [],
   "source": [
    "# Define function to compare and plot model predictions from actual values\n",
    "# Allow to zoom into a certain interval on the x axis\n",
    "\n",
    "def plot_comparison(predictions, actual, startx=None, endx=None, starty=None, endy=None):\n",
    "    \"\"\"\n",
    "    Plot the predicted vs actual values with an optional x-axis limit.\n",
    "\n",
    "    Parameters:\n",
    "        predictions (array-like): The predicted values.\n",
    "        actual (array-like): The actual values.\n",
    "        start (int, optional): Start index for x-axis limit.\n",
    "        end (int, optional): End index for x-axis limit.\n",
    "    \"\"\"\n",
    "    plt.figure(figsize=(12, 6))\n",
    "    plt.plot(predictions, label='Predicted', marker='o')  # Added markers for better visibility\n",
    "    plt.plot(actual, label='Actual', marker='x')  # Added markers for better visibility\n",
    "    plt.legend()\n",
    "    \n",
    "    # Set x-axis limits if specified\n",
    "    if startx is not None or endx is not None:\n",
    "        plt.xlim(startx, endx)\n",
    "        \n",
    "    # Set y-axis limits if specified\n",
    "    if starty is not None or endy is not None:\n",
    "        plt.ylim(starty, endy)    \n",
    "    \n",
    "    plt.title('Comparison of Predictions and Actual Values')\n",
    "    plt.xlabel('Index')\n",
    "    plt.ylabel('Value')\n",
    "    plt.show()\n",
    "\n",
    "    \n",
    "    # Plot the differences between the actual value and the predicted value\n",
    "    plt.figure(figsize=(12, 6))\n",
    "    \n",
    "    # Set x-axis limits if specified\n",
    "    if startx is not None or endx is not None:\n",
    "        plt.xlim(startx, endx)\n",
    "        \n",
    "    # Set y-axis limits if specified\n",
    "    if starty is not None or endy is not None:\n",
    "        plt.ylim(starty, endy)    \n",
    "    \n",
    "    plt.plot(predictions - actual, label='Difference')\n",
    "    plt.legend()\n",
    "    print('everything but show')\n",
    "    plt.show()\n",
    "    print('done')\n",
    "    return\n",
    "    "
   ]
  },
  {
   "cell_type": "code",
   "execution_count": 10,
   "metadata": {},
   "outputs": [
    {
     "name": "stdout",
     "output_type": "stream",
     "text": [
      "865/865 [==============================] - 14s 15ms/step\n"
     ]
    }
   ],
   "source": [
    "predictions = model.predict(X_test_encoded)\n",
    "predictions = scalerY.inverse_transform(predictions)\n",
    "predictions = predictions.reshape(-1)\n"
   ]
  },
  {
   "cell_type": "code",
   "execution_count": null,
   "metadata": {},
   "outputs": [],
   "source": [
    "# TODO - realign the predictionns with the true RTM and DAM prices and dates\n",
    "\n",
    "pred_df = pd.DataFrame({'Actual': y_test_notscaled, 'Predicted': predictions})\n",
    "\n",
    "shifted_predictions = np.roll(predictions, 288)\n",
    "plot_comparison(shifted_predictions, y_test_nonscale, startx=0, endx=0+96*8, starty=0, endy=100)"
   ]
  }
 ],
 "metadata": {
  "kernelspec": {
   "display_name": "joint1c51",
   "language": "python",
   "name": "python3"
  },
  "language_info": {
   "codemirror_mode": {
    "name": "ipython",
    "version": 3
   },
   "file_extension": ".py",
   "mimetype": "text/x-python",
   "name": "python",
   "nbconvert_exporter": "python",
   "pygments_lexer": "ipython3",
   "version": "3.11.8"
  }
 },
 "nbformat": 4,
 "nbformat_minor": 2
}
