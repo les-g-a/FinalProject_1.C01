{
 "cells": [
  {
   "cell_type": "code",
   "execution_count": 9,
   "metadata": {},
   "outputs": [
    {
     "name": "stdout",
     "output_type": "stream",
     "text": [
      "/Users/sethblum/Library/CloudStorage/OneDrive-MassachusettsInstituteofTechnology/Courses/1C51/project-repo/FinalProject_1.C01\n"
     ]
    }
   ],
   "source": [
    "import numpy as np\n",
    "import pandas as pd\n",
    "from keras.models import load_model\n",
    "from keras.models import Sequential\n",
    "from keras.layers import Bidirectional, LSTM, Dropout, Dense\n",
    "from keras.optimizers import Adam\n",
    "from sklearn.preprocessing import MinMaxScaler\n",
    "from sklearn.preprocessing import StandardScaler\n",
    "from sklearn.preprocessing import OneHotEncoder\n",
    "from sklearn.model_selection import train_test_split\n",
    "from sklearn.metrics import mean_squared_error\n",
    "from sklearn.metrics import root_mean_squared_error\n",
    "from sklearn.metrics import accuracy_score\n",
    "from sklearn.metrics import mean_absolute_error, mean_squared_error, r2_score\n",
    "from keras.regularizers import l2\n",
    "import matplotlib.pyplot as plt\n",
    "from keras.preprocessing.sequence import TimeseriesGenerator\n",
    "import datetime as dt\n",
    "import dill\n",
    "# Check current directory\n",
    "import os\n",
    "print(os.getcwd())"
   ]
  },
  {
   "cell_type": "code",
   "execution_count": 20,
   "metadata": {},
   "outputs": [],
   "source": [
    "# Inactive - need to integrate other code\n",
    "\n",
    "\n",
    "# modelpath = 'Model_Outputs/model_BiLSTM_3layers_2024-05-06 11:48:50.924766.keras'\n",
    "# model = load_model(modelpath)\n",
    "predspath = 'Model_Outputs/predictions_BiLSTM_3layers_2024-05-07 13:47:47.444544.csv'\n",
    "preddf = pd.read_csv(predspath)\n",
    "\n",
    "data = pd.read_pickle('X_test.pkl')\n",
    "Xscaler = pd.read_pickle('Xscaler.pkl')"
   ]
  },
  {
   "cell_type": "code",
   "execution_count": 21,
   "metadata": {},
   "outputs": [],
   "source": [
    "# data = pd.DataFrame(Xscaler.inverse_transform(data[:,0:4]))\n",
    "# DAM = data[0]\n",
    "# preddf['DAM'] = DAM\n",
    "\n",
    "# # Note - day ahead is hardcoded as which column so be careful if changed"
   ]
  },
  {
   "cell_type": "code",
   "execution_count": 22,
   "metadata": {},
   "outputs": [],
   "source": [
    "cleandf = pd.read_pickle('Data_Clean/merged_clean_df.pkl')\n"
   ]
  },
  {
   "cell_type": "code",
   "execution_count": 23,
   "metadata": {},
   "outputs": [
    {
     "data": {
      "text/html": [
       "<div>\n",
       "<style scoped>\n",
       "    .dataframe tbody tr th:only-of-type {\n",
       "        vertical-align: middle;\n",
       "    }\n",
       "\n",
       "    .dataframe tbody tr th {\n",
       "        vertical-align: top;\n",
       "    }\n",
       "\n",
       "    .dataframe thead th {\n",
       "        text-align: right;\n",
       "    }\n",
       "</style>\n",
       "<table border=\"1\" class=\"dataframe\">\n",
       "  <thead>\n",
       "    <tr style=\"text-align: right;\">\n",
       "      <th></th>\n",
       "      <th>DAM</th>\n",
       "      <th>RTM</th>\n",
       "      <th>load_fc</th>\n",
       "      <th>load_diff</th>\n",
       "      <th>Day</th>\n",
       "      <th>Month</th>\n",
       "      <th>Year</th>\n",
       "      <th>Hour</th>\n",
       "      <th>Minute</th>\n",
       "    </tr>\n",
       "    <tr>\n",
       "      <th>dt</th>\n",
       "      <th></th>\n",
       "      <th></th>\n",
       "      <th></th>\n",
       "      <th></th>\n",
       "      <th></th>\n",
       "      <th></th>\n",
       "      <th></th>\n",
       "      <th></th>\n",
       "      <th></th>\n",
       "    </tr>\n",
       "  </thead>\n",
       "  <tbody>\n",
       "    <tr>\n",
       "      <th>2012-01-03 00:00:00</th>\n",
       "      <td>22.40</td>\n",
       "      <td>22.87</td>\n",
       "      <td>0.0</td>\n",
       "      <td>0.0</td>\n",
       "      <td>1.0</td>\n",
       "      <td>1.0</td>\n",
       "      <td>2012.0</td>\n",
       "      <td>0.0</td>\n",
       "      <td>0.0</td>\n",
       "    </tr>\n",
       "    <tr>\n",
       "      <th>2012-01-03 00:15:00</th>\n",
       "      <td>20.79</td>\n",
       "      <td>23.40</td>\n",
       "      <td>0.0</td>\n",
       "      <td>0.0</td>\n",
       "      <td>1.0</td>\n",
       "      <td>1.0</td>\n",
       "      <td>2012.0</td>\n",
       "      <td>0.0</td>\n",
       "      <td>15.0</td>\n",
       "    </tr>\n",
       "    <tr>\n",
       "      <th>2012-01-03 00:30:00</th>\n",
       "      <td>20.79</td>\n",
       "      <td>22.49</td>\n",
       "      <td>0.0</td>\n",
       "      <td>0.0</td>\n",
       "      <td>1.0</td>\n",
       "      <td>1.0</td>\n",
       "      <td>2012.0</td>\n",
       "      <td>0.0</td>\n",
       "      <td>30.0</td>\n",
       "    </tr>\n",
       "    <tr>\n",
       "      <th>2012-01-03 00:45:00</th>\n",
       "      <td>20.79</td>\n",
       "      <td>21.92</td>\n",
       "      <td>0.0</td>\n",
       "      <td>0.0</td>\n",
       "      <td>1.0</td>\n",
       "      <td>1.0</td>\n",
       "      <td>2012.0</td>\n",
       "      <td>0.0</td>\n",
       "      <td>45.0</td>\n",
       "    </tr>\n",
       "    <tr>\n",
       "      <th>2012-01-03 01:00:00</th>\n",
       "      <td>20.79</td>\n",
       "      <td>21.27</td>\n",
       "      <td>0.0</td>\n",
       "      <td>0.0</td>\n",
       "      <td>1.0</td>\n",
       "      <td>1.0</td>\n",
       "      <td>2012.0</td>\n",
       "      <td>1.0</td>\n",
       "      <td>0.0</td>\n",
       "    </tr>\n",
       "    <tr>\n",
       "      <th>...</th>\n",
       "      <td>...</td>\n",
       "      <td>...</td>\n",
       "      <td>...</td>\n",
       "      <td>...</td>\n",
       "      <td>...</td>\n",
       "      <td>...</td>\n",
       "      <td>...</td>\n",
       "      <td>...</td>\n",
       "      <td>...</td>\n",
       "    </tr>\n",
       "    <tr>\n",
       "      <th>2023-12-31 23:00:00</th>\n",
       "      <td>15.50</td>\n",
       "      <td>12.08</td>\n",
       "      <td>0.0</td>\n",
       "      <td>0.0</td>\n",
       "      <td>6.0</td>\n",
       "      <td>12.0</td>\n",
       "      <td>2023.0</td>\n",
       "      <td>23.0</td>\n",
       "      <td>0.0</td>\n",
       "    </tr>\n",
       "    <tr>\n",
       "      <th>2023-12-31 23:15:00</th>\n",
       "      <td>15.50</td>\n",
       "      <td>12.40</td>\n",
       "      <td>0.0</td>\n",
       "      <td>0.0</td>\n",
       "      <td>6.0</td>\n",
       "      <td>12.0</td>\n",
       "      <td>2023.0</td>\n",
       "      <td>23.0</td>\n",
       "      <td>15.0</td>\n",
       "    </tr>\n",
       "    <tr>\n",
       "      <th>2023-12-31 23:30:00</th>\n",
       "      <td>15.50</td>\n",
       "      <td>12.77</td>\n",
       "      <td>0.0</td>\n",
       "      <td>0.0</td>\n",
       "      <td>6.0</td>\n",
       "      <td>12.0</td>\n",
       "      <td>2023.0</td>\n",
       "      <td>23.0</td>\n",
       "      <td>30.0</td>\n",
       "    </tr>\n",
       "    <tr>\n",
       "      <th>2023-12-31 23:45:00</th>\n",
       "      <td>15.50</td>\n",
       "      <td>12.80</td>\n",
       "      <td>0.0</td>\n",
       "      <td>0.0</td>\n",
       "      <td>6.0</td>\n",
       "      <td>12.0</td>\n",
       "      <td>2023.0</td>\n",
       "      <td>23.0</td>\n",
       "      <td>45.0</td>\n",
       "    </tr>\n",
       "    <tr>\n",
       "      <th>2024-01-01 00:00:00</th>\n",
       "      <td>15.50</td>\n",
       "      <td>12.57</td>\n",
       "      <td>0.0</td>\n",
       "      <td>0.0</td>\n",
       "      <td>0.0</td>\n",
       "      <td>1.0</td>\n",
       "      <td>2024.0</td>\n",
       "      <td>0.0</td>\n",
       "      <td>0.0</td>\n",
       "    </tr>\n",
       "  </tbody>\n",
       "</table>\n",
       "<p>420767 rows × 9 columns</p>\n",
       "</div>"
      ],
      "text/plain": [
       "                       DAM    RTM  load_fc  load_diff  Day  Month    Year  \\\n",
       "dt                                                                          \n",
       "2012-01-03 00:00:00  22.40  22.87      0.0        0.0  1.0    1.0  2012.0   \n",
       "2012-01-03 00:15:00  20.79  23.40      0.0        0.0  1.0    1.0  2012.0   \n",
       "2012-01-03 00:30:00  20.79  22.49      0.0        0.0  1.0    1.0  2012.0   \n",
       "2012-01-03 00:45:00  20.79  21.92      0.0        0.0  1.0    1.0  2012.0   \n",
       "2012-01-03 01:00:00  20.79  21.27      0.0        0.0  1.0    1.0  2012.0   \n",
       "...                    ...    ...      ...        ...  ...    ...     ...   \n",
       "2023-12-31 23:00:00  15.50  12.08      0.0        0.0  6.0   12.0  2023.0   \n",
       "2023-12-31 23:15:00  15.50  12.40      0.0        0.0  6.0   12.0  2023.0   \n",
       "2023-12-31 23:30:00  15.50  12.77      0.0        0.0  6.0   12.0  2023.0   \n",
       "2023-12-31 23:45:00  15.50  12.80      0.0        0.0  6.0   12.0  2023.0   \n",
       "2024-01-01 00:00:00  15.50  12.57      0.0        0.0  0.0    1.0  2024.0   \n",
       "\n",
       "                     Hour  Minute  \n",
       "dt                                 \n",
       "2012-01-03 00:00:00   0.0     0.0  \n",
       "2012-01-03 00:15:00   0.0    15.0  \n",
       "2012-01-03 00:30:00   0.0    30.0  \n",
       "2012-01-03 00:45:00   0.0    45.0  \n",
       "2012-01-03 01:00:00   1.0     0.0  \n",
       "...                   ...     ...  \n",
       "2023-12-31 23:00:00  23.0     0.0  \n",
       "2023-12-31 23:15:00  23.0    15.0  \n",
       "2023-12-31 23:30:00  23.0    30.0  \n",
       "2023-12-31 23:45:00  23.0    45.0  \n",
       "2024-01-01 00:00:00   0.0     0.0  \n",
       "\n",
       "[420767 rows x 9 columns]"
      ]
     },
     "execution_count": 23,
     "metadata": {},
     "output_type": "execute_result"
    }
   ],
   "source": [
    "cleandf[191:]"
   ]
  },
  {
   "cell_type": "code",
   "execution_count": 24,
   "metadata": {},
   "outputs": [
    {
     "data": {
      "text/html": [
       "<div>\n",
       "<style scoped>\n",
       "    .dataframe tbody tr th:only-of-type {\n",
       "        vertical-align: middle;\n",
       "    }\n",
       "\n",
       "    .dataframe tbody tr th {\n",
       "        vertical-align: top;\n",
       "    }\n",
       "\n",
       "    .dataframe thead th {\n",
       "        text-align: right;\n",
       "    }\n",
       "</style>\n",
       "<table border=\"1\" class=\"dataframe\">\n",
       "  <thead>\n",
       "    <tr style=\"text-align: right;\">\n",
       "      <th></th>\n",
       "      <th>Actual</th>\n",
       "      <th>Predicted</th>\n",
       "    </tr>\n",
       "  </thead>\n",
       "  <tbody>\n",
       "    <tr>\n",
       "      <th>0</th>\n",
       "      <td>37.99</td>\n",
       "      <td>45.644910</td>\n",
       "    </tr>\n",
       "    <tr>\n",
       "      <th>1</th>\n",
       "      <td>32.91</td>\n",
       "      <td>42.195625</td>\n",
       "    </tr>\n",
       "    <tr>\n",
       "      <th>2</th>\n",
       "      <td>31.57</td>\n",
       "      <td>43.337540</td>\n",
       "    </tr>\n",
       "    <tr>\n",
       "      <th>3</th>\n",
       "      <td>31.74</td>\n",
       "      <td>42.525284</td>\n",
       "    </tr>\n",
       "    <tr>\n",
       "      <th>4</th>\n",
       "      <td>27.88</td>\n",
       "      <td>45.266030</td>\n",
       "    </tr>\n",
       "    <tr>\n",
       "      <th>...</th>\n",
       "      <td>...</td>\n",
       "      <td>...</td>\n",
       "    </tr>\n",
       "    <tr>\n",
       "      <th>83879</th>\n",
       "      <td>12.08</td>\n",
       "      <td>17.171260</td>\n",
       "    </tr>\n",
       "    <tr>\n",
       "      <th>83880</th>\n",
       "      <td>12.40</td>\n",
       "      <td>17.278280</td>\n",
       "    </tr>\n",
       "    <tr>\n",
       "      <th>83881</th>\n",
       "      <td>12.77</td>\n",
       "      <td>17.097395</td>\n",
       "    </tr>\n",
       "    <tr>\n",
       "      <th>83882</th>\n",
       "      <td>12.80</td>\n",
       "      <td>20.160194</td>\n",
       "    </tr>\n",
       "    <tr>\n",
       "      <th>83883</th>\n",
       "      <td>12.57</td>\n",
       "      <td>20.364400</td>\n",
       "    </tr>\n",
       "  </tbody>\n",
       "</table>\n",
       "<p>83884 rows × 2 columns</p>\n",
       "</div>"
      ],
      "text/plain": [
       "       Actual  Predicted\n",
       "0       37.99  45.644910\n",
       "1       32.91  42.195625\n",
       "2       31.57  43.337540\n",
       "3       31.74  42.525284\n",
       "4       27.88  45.266030\n",
       "...       ...        ...\n",
       "83879   12.08  17.171260\n",
       "83880   12.40  17.278280\n",
       "83881   12.77  17.097395\n",
       "83882   12.80  20.160194\n",
       "83883   12.57  20.364400\n",
       "\n",
       "[83884 rows x 2 columns]"
      ]
     },
     "execution_count": 24,
     "metadata": {},
     "output_type": "execute_result"
    }
   ],
   "source": [
    "preddf.drop(columns=['Unnamed: 0'], inplace=True)\n",
    "preddf"
   ]
  },
  {
   "cell_type": "code",
   "execution_count": 25,
   "metadata": {},
   "outputs": [
    {
     "data": {
      "text/plain": [
       "451592.0"
      ]
     },
     "execution_count": 25,
     "metadata": {},
     "output_type": "execute_result"
    }
   ],
   "source": [
    "5419104/12"
   ]
  },
  {
   "cell_type": "code",
   "execution_count": 26,
   "metadata": {},
   "outputs": [],
   "source": [
    "# scalerX = dill.load(open('Xscaler.pkl', 'rb'))\n",
    "# scalerY = dill.load(open('Yscaler.pkl', 'rb'))\n",
    "# # Load the data\n",
    "# X_train_encoded = dill.load(open('X_train_encoded.pkl', 'rb'))\n",
    "# X_test_encoded = dill.load(open('X_test_encoded.pkl', 'rb'))\n",
    "# y_train_encoded = dill.load(open('y_train_encoded.pkl', 'rb'))\n",
    "# y_test_encoded = dill.load(open('y_test_encoded.pkl', 'rb'))\n",
    "# # TODO need to add\n",
    "# y_test_notscaled = dill.load(open('raw_y_test.pkl', 'rb'))"
   ]
  },
  {
   "cell_type": "code",
   "execution_count": 27,
   "metadata": {},
   "outputs": [],
   "source": [
    "# Define function to compare and plot model predictions from actual values\n",
    "# Allow to zoom into a certain interval on the x axis\n",
    "\n",
    "def plot_comparison(predictions, actual, DAM = None, startx=None, endx=None, starty=None, endy=None):\n",
    "    \"\"\"\n",
    "    Plot the predicted vs actual values with an optional x-axis limit.\n",
    "\n",
    "    Parameters:\n",
    "        predictions (array-like): The predicted values.\n",
    "        actual (array-like): The actual values.\n",
    "        start (int, optional): Start index for x-axis limit.\n",
    "        end (int, optional): End index for x-axis limit.\n",
    "    \"\"\"\n",
    "    plt.figure(figsize=(12, 6))\n",
    "    plt.plot(predictions, label='Predicted')  # Added markers for better visibility\n",
    "    plt.plot(actual, label='Actual')  # Added markers for better visibility\n",
    "    if DAM is not None:\n",
    "        plt.plot(DAM, label='DAM')\n",
    "    plt.legend()\n",
    "    \n",
    "    # Set x-axis limits if specified\n",
    "    if startx is not None or endx is not None:\n",
    "        plt.xlim(startx, endx)\n",
    "        plt.ylim(preddf['Actual'][startx:endx].min(), preddf['Actual'][startx:endx].max())\n",
    "        \n",
    "    # Set y-axis limits if specified\n",
    "    if starty is not None or endy is not None:\n",
    "        plt.ylim(starty, endy)    \n",
    "    \n",
    "    plt.title('Comparison of Predictions and Actual Values ('+predspath[41:57]+')')\n",
    "    plt.xlabel('Index')\n",
    "    plt.ylabel('Value')\n",
    "    plt.show()\n",
    "\n",
    "    \n",
    "    # Plot the differences between the actual value and the predicted value\n",
    "    plt.figure(figsize=(12, 6))\n",
    "    \n",
    "    # Set x-axis limits if specified\n",
    "    if startx is not None or endx is not None:\n",
    "        plt.xlim(startx, endx)\n",
    "        \n",
    "    # Set y-axis limits if specified\n",
    "    if starty is not None or endy is not None:\n",
    "        plt.ylim(starty, endy)    \n",
    "    \n",
    "    plt.plot(predictions - actual, label='Difference')\n",
    "    plt.legend()\n",
    "    print('everything but show')\n",
    "    plt.show()\n",
    "    print('done')\n",
    "    return\n",
    "    "
   ]
  },
  {
   "cell_type": "code",
   "execution_count": 28,
   "metadata": {},
   "outputs": [
    {
     "name": "stdout",
     "output_type": "stream",
     "text": [
      "mse0.4794857613377229\n",
      "mae0.0004344483365213026\n"
     ]
    }
   ],
   "source": [
    "from sklearn.metrics import mean_squared_error\n",
    "from sklearn.metrics import mean_absolute_error\n",
    "mse = mean_squared_error(preddf['Actual'], preddf['Predicted'])\n",
    "print('mse'+str(mse/len(preddf['Actual'])))\n",
    "\n",
    "mae = mean_absolute_error(preddf['Actual'], preddf['Predicted'])\n",
    "print('mae'+str(mae / len(preddf['Actual'])))\n"
   ]
  },
  {
   "cell_type": "code",
   "execution_count": 29,
   "metadata": {},
   "outputs": [
    {
     "ename": "KeyError",
     "evalue": "'DAM'",
     "output_type": "error",
     "traceback": [
      "\u001b[0;31m---------------------------------------------------------------------------\u001b[0m",
      "\u001b[0;31mKeyError\u001b[0m                                  Traceback (most recent call last)",
      "File \u001b[0;32m~/anaconda3/envs/joint1c51/lib/python3.11/site-packages/pandas/core/indexes/base.py:3805\u001b[0m, in \u001b[0;36mIndex.get_loc\u001b[0;34m(self, key)\u001b[0m\n\u001b[1;32m   3804\u001b[0m \u001b[38;5;28;01mtry\u001b[39;00m:\n\u001b[0;32m-> 3805\u001b[0m     \u001b[38;5;28;01mreturn\u001b[39;00m \u001b[38;5;28;43mself\u001b[39;49m\u001b[38;5;241;43m.\u001b[39;49m\u001b[43m_engine\u001b[49m\u001b[38;5;241;43m.\u001b[39;49m\u001b[43mget_loc\u001b[49m\u001b[43m(\u001b[49m\u001b[43mcasted_key\u001b[49m\u001b[43m)\u001b[49m\n\u001b[1;32m   3806\u001b[0m \u001b[38;5;28;01mexcept\u001b[39;00m \u001b[38;5;167;01mKeyError\u001b[39;00m \u001b[38;5;28;01mas\u001b[39;00m err:\n",
      "File \u001b[0;32mindex.pyx:167\u001b[0m, in \u001b[0;36mpandas._libs.index.IndexEngine.get_loc\u001b[0;34m()\u001b[0m\n",
      "File \u001b[0;32mindex.pyx:196\u001b[0m, in \u001b[0;36mpandas._libs.index.IndexEngine.get_loc\u001b[0;34m()\u001b[0m\n",
      "File \u001b[0;32mpandas/_libs/hashtable_class_helper.pxi:7081\u001b[0m, in \u001b[0;36mpandas._libs.hashtable.PyObjectHashTable.get_item\u001b[0;34m()\u001b[0m\n",
      "File \u001b[0;32mpandas/_libs/hashtable_class_helper.pxi:7089\u001b[0m, in \u001b[0;36mpandas._libs.hashtable.PyObjectHashTable.get_item\u001b[0;34m()\u001b[0m\n",
      "\u001b[0;31mKeyError\u001b[0m: 'DAM'",
      "\nThe above exception was the direct cause of the following exception:\n",
      "\u001b[0;31mKeyError\u001b[0m                                  Traceback (most recent call last)",
      "Cell \u001b[0;32mIn[29], line 1\u001b[0m\n\u001b[0;32m----> 1\u001b[0m plot_comparison(preddf[\u001b[38;5;124m'\u001b[39m\u001b[38;5;124mPredicted\u001b[39m\u001b[38;5;124m'\u001b[39m], preddf[\u001b[38;5;124m'\u001b[39m\u001b[38;5;124mActual\u001b[39m\u001b[38;5;124m'\u001b[39m],\u001b[43mpreddf\u001b[49m\u001b[43m[\u001b[49m\u001b[38;5;124;43m'\u001b[39;49m\u001b[38;5;124;43mDAM\u001b[39;49m\u001b[38;5;124;43m'\u001b[39;49m\u001b[43m]\u001b[49m, startx\u001b[38;5;241m=\u001b[39m\u001b[38;5;241m96\u001b[39m\u001b[38;5;241m*\u001b[39m\u001b[38;5;241m160\u001b[39m, endx\u001b[38;5;241m=\u001b[39m\u001b[38;5;241m0\u001b[39m\u001b[38;5;241m+\u001b[39m\u001b[38;5;241m96\u001b[39m\u001b[38;5;241m*\u001b[39m\u001b[38;5;241m170\u001b[39m, starty\u001b[38;5;241m=\u001b[39m\u001b[38;5;241m-\u001b[39m\u001b[38;5;241m10\u001b[39m, endy\u001b[38;5;241m=\u001b[39m\u001b[38;5;241m200\u001b[39m)\n",
      "File \u001b[0;32m~/anaconda3/envs/joint1c51/lib/python3.11/site-packages/pandas/core/frame.py:4090\u001b[0m, in \u001b[0;36mDataFrame.__getitem__\u001b[0;34m(self, key)\u001b[0m\n\u001b[1;32m   4088\u001b[0m \u001b[38;5;28;01mif\u001b[39;00m \u001b[38;5;28mself\u001b[39m\u001b[38;5;241m.\u001b[39mcolumns\u001b[38;5;241m.\u001b[39mnlevels \u001b[38;5;241m>\u001b[39m \u001b[38;5;241m1\u001b[39m:\n\u001b[1;32m   4089\u001b[0m     \u001b[38;5;28;01mreturn\u001b[39;00m \u001b[38;5;28mself\u001b[39m\u001b[38;5;241m.\u001b[39m_getitem_multilevel(key)\n\u001b[0;32m-> 4090\u001b[0m indexer \u001b[38;5;241m=\u001b[39m \u001b[38;5;28;43mself\u001b[39;49m\u001b[38;5;241;43m.\u001b[39;49m\u001b[43mcolumns\u001b[49m\u001b[38;5;241;43m.\u001b[39;49m\u001b[43mget_loc\u001b[49m\u001b[43m(\u001b[49m\u001b[43mkey\u001b[49m\u001b[43m)\u001b[49m\n\u001b[1;32m   4091\u001b[0m \u001b[38;5;28;01mif\u001b[39;00m is_integer(indexer):\n\u001b[1;32m   4092\u001b[0m     indexer \u001b[38;5;241m=\u001b[39m [indexer]\n",
      "File \u001b[0;32m~/anaconda3/envs/joint1c51/lib/python3.11/site-packages/pandas/core/indexes/base.py:3812\u001b[0m, in \u001b[0;36mIndex.get_loc\u001b[0;34m(self, key)\u001b[0m\n\u001b[1;32m   3807\u001b[0m     \u001b[38;5;28;01mif\u001b[39;00m \u001b[38;5;28misinstance\u001b[39m(casted_key, \u001b[38;5;28mslice\u001b[39m) \u001b[38;5;129;01mor\u001b[39;00m (\n\u001b[1;32m   3808\u001b[0m         \u001b[38;5;28misinstance\u001b[39m(casted_key, abc\u001b[38;5;241m.\u001b[39mIterable)\n\u001b[1;32m   3809\u001b[0m         \u001b[38;5;129;01mand\u001b[39;00m \u001b[38;5;28many\u001b[39m(\u001b[38;5;28misinstance\u001b[39m(x, \u001b[38;5;28mslice\u001b[39m) \u001b[38;5;28;01mfor\u001b[39;00m x \u001b[38;5;129;01min\u001b[39;00m casted_key)\n\u001b[1;32m   3810\u001b[0m     ):\n\u001b[1;32m   3811\u001b[0m         \u001b[38;5;28;01mraise\u001b[39;00m InvalidIndexError(key)\n\u001b[0;32m-> 3812\u001b[0m     \u001b[38;5;28;01mraise\u001b[39;00m \u001b[38;5;167;01mKeyError\u001b[39;00m(key) \u001b[38;5;28;01mfrom\u001b[39;00m \u001b[38;5;21;01merr\u001b[39;00m\n\u001b[1;32m   3813\u001b[0m \u001b[38;5;28;01mexcept\u001b[39;00m \u001b[38;5;167;01mTypeError\u001b[39;00m:\n\u001b[1;32m   3814\u001b[0m     \u001b[38;5;66;03m# If we have a listlike key, _check_indexing_error will raise\u001b[39;00m\n\u001b[1;32m   3815\u001b[0m     \u001b[38;5;66;03m#  InvalidIndexError. Otherwise we fall through and re-raise\u001b[39;00m\n\u001b[1;32m   3816\u001b[0m     \u001b[38;5;66;03m#  the TypeError.\u001b[39;00m\n\u001b[1;32m   3817\u001b[0m     \u001b[38;5;28mself\u001b[39m\u001b[38;5;241m.\u001b[39m_check_indexing_error(key)\n",
      "\u001b[0;31mKeyError\u001b[0m: 'DAM'"
     ]
    }
   ],
   "source": [
    "plot_comparison(preddf['Predicted'], preddf['Actual'],preddf['DAM'], startx=96*160, endx=0+96*170, starty=-10, endy=200)"
   ]
  },
  {
   "cell_type": "code",
   "execution_count": null,
   "metadata": {},
   "outputs": [],
   "source": [
    "\n",
    "def get_category(value):\n",
    "    if value >= 25:\n",
    "        return 3\n",
    "    elif value >= 0:\n",
    "        return 2\n",
    "    elif value >= -25:\n",
    "        return 1\n",
    "    else:\n",
    "        return 0\n",
    "\n",
    "preddf['Actual Category'] = (preddf['Actual']-preddf['DAM']).apply(get_category)\n",
    "preddf['Predicted Category'] = (preddf['Predicted']-preddf['DAM']).apply(get_category)"
   ]
  },
  {
   "cell_type": "code",
   "execution_count": null,
   "metadata": {},
   "outputs": [],
   "source": [
    "preddf['CatAccuracy'] = preddf['Actual Category'] == preddf['Predicted Category']"
   ]
  },
  {
   "cell_type": "code",
   "execution_count": null,
   "metadata": {},
   "outputs": [
    {
     "data": {
      "text/plain": [
       "0         True\n",
       "1         True\n",
       "2         True\n",
       "3         True\n",
       "4        False\n",
       "         ...  \n",
       "55815     True\n",
       "55816     True\n",
       "55817     True\n",
       "55818     True\n",
       "55819     True\n",
       "Name: CatAccuracy, Length: 55820, dtype: bool"
      ]
     },
     "execution_count": 65,
     "metadata": {},
     "output_type": "execute_result"
    }
   ],
   "source": [
    "preddf['CatAccuracy']"
   ]
  },
  {
   "cell_type": "code",
   "execution_count": null,
   "metadata": {},
   "outputs": [
    {
     "data": {
      "image/png": "[encoded data removed]",
      "text/plain": [
       "<Figure size 640x480 with 1 Axes>"
      ]
     },
     "metadata": {},
     "output_type": "display_data"
    }
   ],
   "source": [
    "catdays = []\n",
    "runningcatdays = []\n",
    "for i in range(1,len(preddf['CatAccuracy'])):\n",
    "    if i % (96*30) == 0:\n",
    "        catdays.append(preddf['CatAccuracy'][i:i+96*30].sum()/len(preddf[i:i+96*30]))\n",
    "        runningcatdays.append(sum(catdays)/len(catdays))\n",
    "\n",
    "\n",
    "plt.plot(catdays)\n",
    "plt.plot(runningcatdays)\n",
    "plt.show()"
   ]
  },
  {
   "cell_type": "code",
   "execution_count": null,
   "metadata": {},
   "outputs": [],
   "source": [
    "signdiff = np.sign(preddf['Predicted']-preddf['DAM']) == np.sign(preddf['Actual']-preddf['DAM'])\n",
    "\n",
    "preddf\n",
    "\n",
    "signdays = []\n",
    "for i in range(1,len(signdiff)):\n",
    "    if i % (96* 30) == 0:\n",
    "        signdays.append(signdiff[i:i+96 * 30].sum()/len(signdiff[i:i+96 * 30]))"
   ]
  },
  {
   "cell_type": "code",
   "execution_count": null,
   "metadata": {},
   "outputs": [
    {
     "name": "stdout",
     "output_type": "stream",
     "text": [
      "0.7644213543532784\n"
     ]
    }
   ],
   "source": [
    "print(signdiff.sum()/len(signdiff))"
   ]
  },
  {
   "cell_type": "code",
   "execution_count": null,
   "metadata": {},
   "outputs": [
    {
     "name": "stderr",
     "output_type": "stream",
     "text": [
      "/Users/sethblum/anaconda3/envs/joint1c51/lib/python3.11/site-packages/seaborn/_oldcore.py:1119: FutureWarning: use_inf_as_na option is deprecated and will be removed in a future version. Convert inf values to NaN before operating instead.\n",
      "  with pd.option_context('mode.use_inf_as_na', True):\n",
      "/Users/sethblum/anaconda3/envs/joint1c51/lib/python3.11/site-packages/seaborn/_oldcore.py:1119: FutureWarning: use_inf_as_na option is deprecated and will be removed in a future version. Convert inf values to NaN before operating instead.\n",
      "  with pd.option_context('mode.use_inf_as_na', True):\n"
     ]
    },
    {
     "data": {
      "image/png": "[encoded data removed]",
      "text/plain": [
       "<Figure size 640x480 with 1 Axes>"
      ]
     },
     "metadata": {},
     "output_type": "display_data"
    },
    {
     "name": "stderr",
     "output_type": "stream",
     "text": [
      "/Users/sethblum/anaconda3/envs/joint1c51/lib/python3.11/site-packages/seaborn/categorical.py:1794: FutureWarning: use_inf_as_na option is deprecated and will be removed in a future version. Convert inf values to NaN before operating instead.\n",
      "  with pd.option_context('mode.use_inf_as_na', True):\n"
     ]
    },
    {
     "data": {
      "text/plain": [
       "<Axes: >"
      ]
     },
     "execution_count": 74,
     "metadata": {},
     "output_type": "execute_result"
    },
    {
     "data": {
      "image/png": "[encoded data removed]",
      "text/plain": [
       "<Figure size 640x480 with 1 Axes>"
      ]
     },
     "metadata": {},
     "output_type": "display_data"
    }
   ],
   "source": [
    "sns.lineplot(x=range(len(signdays)), y=signdays)\n",
    "plt.title('Percentage of Correct Sign Predictions per 30 Day Period')\n",
    "\n",
    "# Set the x-axis tick values to integer values\n",
    "plt.xticks(range(len(signdays)), range(len(signdays)))\n",
    "\n",
    "plt.show()\n",
    "sns.boxenplot(signdays)"
   ]
  },
  {
   "cell_type": "code",
   "execution_count": null,
   "metadata": {},
   "outputs": [
    {
     "data": {
      "text/plain": [
       "0.0853099247581512"
      ]
     },
     "execution_count": 70,
     "metadata": {},
     "output_type": "execute_result"
    }
   ],
   "source": [
    "(np.sign(preddf['Predicted']-preddf['DAM'])).sum()/len(preddf)"
   ]
  }
 ],
 "metadata": {
  "kernelspec": {
   "display_name": "Python 3 (ipykernel)",
   "language": "python",
   "name": "python3"
  },
  "language_info": {
   "codemirror_mode": {
    "name": "ipython",
    "version": 3
   },
   "file_extension": ".py",
   "mimetype": "text/x-python",
   "name": "python",
   "nbconvert_exporter": "python",
   "pygments_lexer": "ipython3",
   "version": "3.11.8"
  }
 },
 "nbformat": 4,
 "nbformat_minor": 4
}
