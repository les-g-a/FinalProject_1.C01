{
 "cells": [
  {
   "cell_type": "code",
   "execution_count": 20,
   "metadata": {},
   "outputs": [
    {
     "name": "stdout",
     "output_type": "stream",
     "text": [
      "/Users/sethblum/Library/CloudStorage/OneDrive-MassachusettsInstituteofTechnology/Courses/1C51/project-repo/FinalProject_1.C01\n"
     ]
    }
   ],
   "source": [
    "import numpy as np\n",
    "import pandas as pd\n",
    "from keras.models import Sequential\n",
    "from keras.layers import Bidirectional, LSTM, Dropout, Dense\n",
    "from keras.optimizers import Adam\n",
    "from sklearn.preprocessing import MinMaxScaler\n",
    "from sklearn.preprocessing import StandardScaler\n",
    "from sklearn.preprocessing import OneHotEncoder\n",
    "from sklearn.model_selection import train_test_split\n",
    "from sklearn.metrics import mean_squared_error\n",
    "from sklearn.metrics import root_mean_squared_error\n",
    "from sklearn.metrics import accuracy_score\n",
    "from sklearn.metrics import mean_absolute_error, mean_squared_error, r2_score\n",
    "from keras.regularizers import l2\n",
    "import matplotlib.pyplot as plt\n",
    "from keras.preprocessing.sequence import TimeseriesGenerator\n",
    "import datetime as dt\n",
    "# Check current directory\n",
    "import os\n",
    "print(os.getcwd())"
   ]
  },
  {
   "cell_type": "code",
   "execution_count": 21,
   "metadata": {},
   "outputs": [],
   "source": [
    "## Should change this to be an import\n",
    "\n",
    "def rev_encode_data(X, y, lookback = 96, forecast=96):\n",
    "    \"\"\"\n",
    "    Encode the data for training an LSTM model, including creating sequences and splitting into input and target.\n",
    "\n",
    "    Parameters:\n",
    "    X (numpy.ndarray): The input data array.\n",
    "    y (numpy.ndarray): The target variable array.\n",
    "    lookback (int): The number of timesteps to look back (48 hours with 15 minute intervals).\n",
    "    forecast (int): The number of timesteps to forecast (24 hours with 15 minute intervals).\n",
    "\n",
    "    Returns:\n",
    "    X_seq (numpy.ndarray): The encoded input data with sequences.\n",
    "    y_seq (numpy.ndarray): The encoded target variable array with sequences.\n",
    "    \"\"\"\n",
    "\n",
    "    if len(X) != len(y):\n",
    "        raise ValueError(\"X and y must have the same length.\")\n",
    "    l = lookback\n",
    "    f = forecast\n",
    "    X_seq = []\n",
    "    y_seq = []\n",
    "\n",
    "    for i in range(len(X) - l - f + 1):\n",
    "        Xtemp = X[i:i+l+f]\n",
    "        ytemp = y[i+l:i+l+f]\n",
    "        X_seq.append(Xtemp)\n",
    "        y_seq.append(ytemp)\n",
    "        if i % 500 == 0:\n",
    "            print(i)\n",
    "\n",
    "    return np.array(X_seq), np.array(y_seq)\n",
    "\n",
    "\n",
    "# Encode the train and test data\n"
   ]
  },
  {
   "cell_type": "code",
   "execution_count": 22,
   "metadata": {},
   "outputs": [],
   "source": [
    "X = np.reshape(np.arange(0,200),(100,2))\n",
    "y = np.arange(200,300)"
   ]
  },
  {
   "cell_type": "code",
   "execution_count": 23,
   "metadata": {},
   "outputs": [
    {
     "name": "stdout",
     "output_type": "stream",
     "text": [
      "0\n"
     ]
    }
   ],
   "source": [
    "X_seq, y_seq = rev_encode_data(X, y, lookback = 5, forecast=5)"
   ]
  },
  {
   "cell_type": "code",
   "execution_count": 24,
   "metadata": {},
   "outputs": [
    {
     "data": {
      "text/plain": [
       "array([[[  0,   1],\n",
       "        [  2,   3],\n",
       "        [  4,   5],\n",
       "        ...,\n",
       "        [ 14,  15],\n",
       "        [ 16,  17],\n",
       "        [ 18,  19]],\n",
       "\n",
       "       [[  2,   3],\n",
       "        [  4,   5],\n",
       "        [  6,   7],\n",
       "        ...,\n",
       "        [ 16,  17],\n",
       "        [ 18,  19],\n",
       "        [ 20,  21]],\n",
       "\n",
       "       [[  4,   5],\n",
       "        [  6,   7],\n",
       "        [  8,   9],\n",
       "        ...,\n",
       "        [ 18,  19],\n",
       "        [ 20,  21],\n",
       "        [ 22,  23]],\n",
       "\n",
       "       ...,\n",
       "\n",
       "       [[176, 177],\n",
       "        [178, 179],\n",
       "        [180, 181],\n",
       "        ...,\n",
       "        [190, 191],\n",
       "        [192, 193],\n",
       "        [194, 195]],\n",
       "\n",
       "       [[178, 179],\n",
       "        [180, 181],\n",
       "        [182, 183],\n",
       "        ...,\n",
       "        [192, 193],\n",
       "        [194, 195],\n",
       "        [196, 197]],\n",
       "\n",
       "       [[180, 181],\n",
       "        [182, 183],\n",
       "        [184, 185],\n",
       "        ...,\n",
       "        [194, 195],\n",
       "        [196, 197],\n",
       "        [198, 199]]])"
      ]
     },
     "execution_count": 24,
     "metadata": {},
     "output_type": "execute_result"
    }
   ],
   "source": [
    "X_seq"
   ]
  },
  {
   "cell_type": "code",
   "execution_count": 25,
   "metadata": {},
   "outputs": [
    {
     "data": {
      "text/plain": [
       "array([[205, 206, 207, 208, 209],\n",
       "       [206, 207, 208, 209, 210],\n",
       "       [207, 208, 209, 210, 211],\n",
       "       [208, 209, 210, 211, 212],\n",
       "       [209, 210, 211, 212, 213],\n",
       "       [210, 211, 212, 213, 214],\n",
       "       [211, 212, 213, 214, 215],\n",
       "       [212, 213, 214, 215, 216],\n",
       "       [213, 214, 215, 216, 217],\n",
       "       [214, 215, 216, 217, 218],\n",
       "       [215, 216, 217, 218, 219],\n",
       "       [216, 217, 218, 219, 220],\n",
       "       [217, 218, 219, 220, 221],\n",
       "       [218, 219, 220, 221, 222],\n",
       "       [219, 220, 221, 222, 223],\n",
       "       [220, 221, 222, 223, 224],\n",
       "       [221, 222, 223, 224, 225],\n",
       "       [222, 223, 224, 225, 226],\n",
       "       [223, 224, 225, 226, 227],\n",
       "       [224, 225, 226, 227, 228],\n",
       "       [225, 226, 227, 228, 229],\n",
       "       [226, 227, 228, 229, 230],\n",
       "       [227, 228, 229, 230, 231],\n",
       "       [228, 229, 230, 231, 232],\n",
       "       [229, 230, 231, 232, 233],\n",
       "       [230, 231, 232, 233, 234],\n",
       "       [231, 232, 233, 234, 235],\n",
       "       [232, 233, 234, 235, 236],\n",
       "       [233, 234, 235, 236, 237],\n",
       "       [234, 235, 236, 237, 238],\n",
       "       [235, 236, 237, 238, 239],\n",
       "       [236, 237, 238, 239, 240],\n",
       "       [237, 238, 239, 240, 241],\n",
       "       [238, 239, 240, 241, 242],\n",
       "       [239, 240, 241, 242, 243],\n",
       "       [240, 241, 242, 243, 244],\n",
       "       [241, 242, 243, 244, 245],\n",
       "       [242, 243, 244, 245, 246],\n",
       "       [243, 244, 245, 246, 247],\n",
       "       [244, 245, 246, 247, 248],\n",
       "       [245, 246, 247, 248, 249],\n",
       "       [246, 247, 248, 249, 250],\n",
       "       [247, 248, 249, 250, 251],\n",
       "       [248, 249, 250, 251, 252],\n",
       "       [249, 250, 251, 252, 253],\n",
       "       [250, 251, 252, 253, 254],\n",
       "       [251, 252, 253, 254, 255],\n",
       "       [252, 253, 254, 255, 256],\n",
       "       [253, 254, 255, 256, 257],\n",
       "       [254, 255, 256, 257, 258],\n",
       "       [255, 256, 257, 258, 259],\n",
       "       [256, 257, 258, 259, 260],\n",
       "       [257, 258, 259, 260, 261],\n",
       "       [258, 259, 260, 261, 262],\n",
       "       [259, 260, 261, 262, 263],\n",
       "       [260, 261, 262, 263, 264],\n",
       "       [261, 262, 263, 264, 265],\n",
       "       [262, 263, 264, 265, 266],\n",
       "       [263, 264, 265, 266, 267],\n",
       "       [264, 265, 266, 267, 268],\n",
       "       [265, 266, 267, 268, 269],\n",
       "       [266, 267, 268, 269, 270],\n",
       "       [267, 268, 269, 270, 271],\n",
       "       [268, 269, 270, 271, 272],\n",
       "       [269, 270, 271, 272, 273],\n",
       "       [270, 271, 272, 273, 274],\n",
       "       [271, 272, 273, 274, 275],\n",
       "       [272, 273, 274, 275, 276],\n",
       "       [273, 274, 275, 276, 277],\n",
       "       [274, 275, 276, 277, 278],\n",
       "       [275, 276, 277, 278, 279],\n",
       "       [276, 277, 278, 279, 280],\n",
       "       [277, 278, 279, 280, 281],\n",
       "       [278, 279, 280, 281, 282],\n",
       "       [279, 280, 281, 282, 283],\n",
       "       [280, 281, 282, 283, 284],\n",
       "       [281, 282, 283, 284, 285],\n",
       "       [282, 283, 284, 285, 286],\n",
       "       [283, 284, 285, 286, 287],\n",
       "       [284, 285, 286, 287, 288],\n",
       "       [285, 286, 287, 288, 289],\n",
       "       [286, 287, 288, 289, 290],\n",
       "       [287, 288, 289, 290, 291],\n",
       "       [288, 289, 290, 291, 292],\n",
       "       [289, 290, 291, 292, 293],\n",
       "       [290, 291, 292, 293, 294],\n",
       "       [291, 292, 293, 294, 295],\n",
       "       [292, 293, 294, 295, 296],\n",
       "       [293, 294, 295, 296, 297],\n",
       "       [294, 295, 296, 297, 298],\n",
       "       [295, 296, 297, 298, 299]])"
      ]
     },
     "execution_count": 25,
     "metadata": {},
     "output_type": "execute_result"
    }
   ],
   "source": [
    "y_seq\n",
    "\n",
    "# so bc of the lack of lookback in the y data, the data is misaligned unless we do something about it"
   ]
  },
  {
   "cell_type": "code",
   "execution_count": 26,
   "metadata": {},
   "outputs": [
    {
     "data": {
      "text/plain": [
       "array([[[  0,   1],\n",
       "        [  2,   3],\n",
       "        [  4,   5],\n",
       "        ...,\n",
       "        [ 14,  15],\n",
       "        [ 16,  17],\n",
       "        [ 18,  19]],\n",
       "\n",
       "       [[  2,   3],\n",
       "        [  4,   5],\n",
       "        [  6,   7],\n",
       "        ...,\n",
       "        [ 16,  17],\n",
       "        [ 18,  19],\n",
       "        [ 20,  21]],\n",
       "\n",
       "       [[  4,   5],\n",
       "        [  6,   7],\n",
       "        [  8,   9],\n",
       "        ...,\n",
       "        [ 18,  19],\n",
       "        [ 20,  21],\n",
       "        [ 22,  23]],\n",
       "\n",
       "       ...,\n",
       "\n",
       "       [[176, 177],\n",
       "        [178, 179],\n",
       "        [180, 181],\n",
       "        ...,\n",
       "        [190, 191],\n",
       "        [192, 193],\n",
       "        [194, 195]],\n",
       "\n",
       "       [[178, 179],\n",
       "        [180, 181],\n",
       "        [182, 183],\n",
       "        ...,\n",
       "        [192, 193],\n",
       "        [194, 195],\n",
       "        [196, 197]],\n",
       "\n",
       "       [[180, 181],\n",
       "        [182, 183],\n",
       "        [184, 185],\n",
       "        ...,\n",
       "        [194, 195],\n",
       "        [196, 197],\n",
       "        [198, 199]]])"
      ]
     },
     "execution_count": 26,
     "metadata": {},
     "output_type": "execute_result"
    }
   ],
   "source": [
    "X_seq"
   ]
  }
 ],
 "metadata": {
  "kernelspec": {
   "display_name": "joint1c51",
   "language": "python",
   "name": "python3"
  },
  "language_info": {
   "codemirror_mode": {
    "name": "ipython",
    "version": 3
   },
   "file_extension": ".py",
   "mimetype": "text/x-python",
   "name": "python",
   "nbconvert_exporter": "python",
   "pygments_lexer": "ipython3",
   "version": "3.11.8"
  }
 },
 "nbformat": 4,
 "nbformat_minor": 2
}
