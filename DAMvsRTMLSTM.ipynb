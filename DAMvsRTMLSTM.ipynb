{
 "cells": [
  {
   "cell_type": "code",
   "execution_count": 6,
   "metadata": {},
   "outputs": [
    {
     "name": "stdout",
     "output_type": "stream",
     "text": [
      "/Users/sethblum/Library/CloudStorage/OneDrive-MassachusettsInstituteofTechnology/Courses/1C51/project-repo/FinalProject_1.C01\n"
     ]
    }
   ],
   "source": [
    "import numpy as np\n",
    "import pandas as pd\n",
    "from keras.models import Sequential\n",
    "from keras.layers import Bidirectional, LSTM, Dropout, Dense\n",
    "from keras.optimizers import Adam\n",
    "from sklearn.preprocessing import MinMaxScaler\n",
    "from sklearn.preprocessing import StandardScaler\n",
    "from sklearn.preprocessing import OneHotEncoder\n",
    "from sklearn.model_selection import train_test_split\n",
    "from sklearn.metrics import mean_squared_error\n",
    "from sklearn.metrics import root_mean_squared_error\n",
    "from sklearn.metrics import accuracy_score\n",
    "from sklearn.metrics import mean_absolute_error, mean_squared_error, r2_score\n",
    "from keras.regularizers import l2\n",
    "import matplotlib.pyplot as plt\n",
    "from keras.preprocessing.sequence import TimeseriesGenerator\n",
    "import datetime as dt\n",
    "# Check current directory\n",
    "import os\n",
    "print(os.getcwd())"
   ]
  },
  {
   "cell_type": "code",
   "execution_count": 7,
   "metadata": {},
   "outputs": [],
   "source": [
    "def load_merge_DAMRTM():\n",
    "\n",
    "    # Load DAM and RTM .csv\n",
    "    DAM = pd.read_csv('Data_Clean/DAM.csv')\n",
    "    RTM = pd.read_csv('Data_Clean/RTM.csv')\n",
    "\n",
    "    # From RTM take Delivert Date Delivery Hour Delivery Interval and Settlement Point Price columns\n",
    "    RTM = RTM[['Delivery Date', 'Delivery Hour', 'Delivery Interval', 'Settlement Point Price']]\n",
    "\n",
    "    # From DAM take Delivery Date Hour Ending and Settlement Point Price columns\n",
    "    DAM = DAM[['Delivery Date', 'Hour Ending', 'Settlement Point Price']]\n",
    "\n",
    "    from datetime import timedelta\n",
    "    # Function to adjust '24:00' to '00:00' and calculate the interval time\n",
    "    def create_time_intervals_corrected(hour, interval):\n",
    "        if hour == \"24:00\":\n",
    "            hour = \"00:00\"\n",
    "        hour_datetime = pd.to_datetime(hour, format='%H:%M')\n",
    "        interval_time = hour_datetime + timedelta(minutes=(interval - 5) * 15)\n",
    "        return interval_time.strftime('%H:%M')\n",
    "\n",
    "    # Expand the DAM dataset to account for 15-minute intervals\n",
    "    dam_intervals = pd.DataFrame({\"Delivery Interval\": range(1, 5)})\n",
    "    DAM['key'] = 1\n",
    "    dam_intervals['key'] = 1\n",
    "    DAM = pd.merge(DAM, dam_intervals, on='key').drop('key', axis=1)\n",
    "\n",
    "    # Create the 'Interval Time' column for DAM\n",
    "    DAM['Interval Time'] = DAM.apply(lambda x: create_time_intervals_corrected(x['Hour Ending'], x['Delivery Interval']), axis=1)\n",
    "\n",
    "    # Prepare the 'Hour Ending' column for RTM to format hours correctly and create 'Interval Time'\n",
    "    RTM['Hour Ending'] = RTM['Delivery Hour'].astype(int).apply(lambda x: f\"{x:02d}:00\")\n",
    "    RTM['Interval Time'] = RTM.apply(lambda x: create_time_intervals_corrected(x['Hour Ending'], x['Delivery Interval']), axis=1)\n",
    "\n",
    "    # For both, split up the Delivert Date into 3 columns representing day, month, and year\n",
    "    DAM['Delivery Date'] = pd.to_datetime(DAM['Delivery Date'])\n",
    "    DAM['Year'] = DAM['Delivery Date'].dt.year\n",
    "    DAM['Month'] = DAM['Delivery Date'].dt.month\n",
    "    DAM['Day'] = DAM['Delivery Date'].dt.day_of_week\n",
    "\n",
    "    RTM['Delivery Date'] = pd.to_datetime(RTM['Delivery Date'])\n",
    "    RTM['Year'] = RTM['Delivery Date'].dt.year\n",
    "    RTM['Month'] = RTM['Delivery Date'].dt.month\n",
    "    RTM['Day'] = RTM['Delivery Date'].dt.day_of_week\n",
    "\n",
    "    # Combine DAM and RTM on Interval Time.\n",
    "    df = pd.merge(DAM, RTM, on=['Delivery Date', 'Interval Time'], suffixes=('_DAM', '_RTM'), how = 'outer')\n",
    "    #  Only keep Interval Time Delivery Date and Settlement Point Price, day, month, year\n",
    "    print(df[df.isnull().any(axis=1)])\n",
    "    df = df[['Delivery Hour', 'Settlement Point Price_DAM', 'Settlement Point Price_RTM', 'Day_DAM', 'Month_DAM', 'Year_DAM', 'Day_RTM', 'Month_RTM', 'Year_RTM']]\n",
    "    return df\n",
    "\n",
    "# df = load_merge_DAMRTM()\n"
   ]
  },
  {
   "cell_type": "code",
   "execution_count": 8,
   "metadata": {},
   "outputs": [],
   "source": [
    "# import dill\n",
    "# df.to_pickle('Data_Clean/loadmergeDAMRTM.pkl')"
   ]
  },
  {
   "cell_type": "code",
   "execution_count": 9,
   "metadata": {},
   "outputs": [],
   "source": [
    "# load the DF from pickle to speed pre-processing\n",
    "df = pd.read_pickle('Data_Clean/loadmergeDAMRTM.pkl')\n",
    "# Cut DF to the first third of rows\n",
    "df = df.iloc[:int(len(df)/3)]"
   ]
  },
  {
   "cell_type": "code",
   "execution_count": 10,
   "metadata": {},
   "outputs": [],
   "source": [
    "X_continuous_dam = df[['Settlement Point Price_DAM']].values\n",
    "df['Settlement Point Price_RTM_lagged'] = df['Settlement Point Price_RTM'].shift(96)\n",
    "X_continuous_rtm = df[['Settlement Point Price_RTM_lagged']].values\n",
    "\n",
    "# Categorical features\n",
    "enc = OneHotEncoder(handle_unknown='ignore')\n",
    "X_categorical = df[['Delivery Hour', 'Day_DAM', 'Month_DAM']]\n",
    "X_categorical = enc.fit_transform(X_categorical).toarray()\n",
    "\n",
    "# can I keep it sparse? https://stackoverflow.com/questions/64572670/more-memory-efficient-method-to-one-hot-encode-columns-python-3-6-x\n",
    "\n",
    "X_continuous = np.concatenate((X_continuous_dam, X_continuous_rtm), axis=1)"
   ]
  },
  {
   "cell_type": "code",
   "execution_count": 11,
   "metadata": {},
   "outputs": [
    {
     "data": {
      "text/plain": [
       "0           NaN\n",
       "1           NaN\n",
       "2           NaN\n",
       "3           NaN\n",
       "4           NaN\n",
       "          ...  \n",
       "140282    19.47\n",
       "140283    19.76\n",
       "140284    19.52\n",
       "140285    19.42\n",
       "140286    17.95\n",
       "Name: Settlement Point Price_RTM_lagged, Length: 140287, dtype: float64"
      ]
     },
     "execution_count": 11,
     "metadata": {},
     "output_type": "execute_result"
    }
   ],
   "source": [
    "df['Settlement Point Price_RTM_lagged']"
   ]
  },
  {
   "cell_type": "code",
   "execution_count": 12,
   "metadata": {},
   "outputs": [
    {
     "data": {
      "text/plain": [
       "472"
      ]
     },
     "execution_count": 12,
     "metadata": {},
     "output_type": "execute_result"
    }
   ],
   "source": [
    "import gc\n",
    "gc.collect()"
   ]
  },
  {
   "cell_type": "code",
   "execution_count": 25,
   "metadata": {},
   "outputs": [
    {
     "name": "stdout",
     "output_type": "stream",
     "text": [
      "0\n",
      "500\n",
      "1000\n",
      "1500\n",
      "2000\n",
      "2500\n",
      "3000\n",
      "3500\n",
      "4000\n",
      "4500\n",
      "5000\n",
      "5500\n",
      "6000\n",
      "6500\n",
      "7000\n",
      "7500\n",
      "8000\n",
      "8500\n",
      "9000\n",
      "9500\n",
      "10000\n",
      "10500\n",
      "11000\n",
      "11500\n",
      "12000\n",
      "12500\n",
      "13000\n",
      "13500\n",
      "14000\n",
      "14500\n",
      "15000\n",
      "15500\n",
      "16000\n",
      "16500\n",
      "17000\n",
      "17500\n",
      "18000\n",
      "18500\n",
      "19000\n",
      "19500\n",
      "20000\n",
      "20500\n",
      "21000\n",
      "21500\n",
      "22000\n",
      "22500\n",
      "23000\n",
      "23500\n",
      "24000\n",
      "24500\n",
      "25000\n",
      "25500\n",
      "26000\n",
      "26500\n",
      "27000\n",
      "27500\n",
      "28000\n",
      "28500\n",
      "29000\n",
      "29500\n",
      "30000\n",
      "30500\n",
      "31000\n",
      "31500\n",
      "32000\n",
      "32500\n",
      "33000\n",
      "33500\n",
      "34000\n",
      "34500\n",
      "35000\n",
      "35500\n",
      "36000\n",
      "36500\n",
      "37000\n",
      "37500\n",
      "38000\n",
      "38500\n",
      "39000\n",
      "39500\n",
      "40000\n",
      "40500\n",
      "41000\n",
      "41500\n",
      "42000\n",
      "42500\n",
      "43000\n",
      "43500\n",
      "44000\n",
      "44500\n",
      "45000\n",
      "45500\n",
      "46000\n",
      "46500\n",
      "47000\n",
      "47500\n",
      "48000\n",
      "48500\n",
      "49000\n",
      "49500\n",
      "50000\n",
      "50500\n",
      "51000\n",
      "51500\n",
      "52000\n",
      "52500\n",
      "53000\n",
      "53500\n",
      "54000\n",
      "54500\n",
      "55000\n",
      "55500\n",
      "56000\n",
      "56500\n",
      "57000\n",
      "57500\n",
      "58000\n",
      "58500\n",
      "59000\n",
      "59500\n",
      "60000\n",
      "60500\n",
      "61000\n",
      "61500\n",
      "62000\n",
      "62500\n",
      "63000\n",
      "63500\n",
      "64000\n",
      "64500\n",
      "65000\n",
      "65500\n",
      "66000\n",
      "66500\n",
      "67000\n",
      "67500\n",
      "68000\n",
      "68500\n",
      "69000\n",
      "69500\n",
      "70000\n",
      "70500\n",
      "71000\n",
      "71500\n",
      "72000\n",
      "72500\n",
      "73000\n",
      "73500\n",
      "74000\n",
      "74500\n",
      "75000\n",
      "75500\n",
      "76000\n",
      "76500\n",
      "77000\n",
      "77500\n",
      "78000\n",
      "78500\n",
      "79000\n",
      "79500\n",
      "80000\n",
      "80500\n",
      "81000\n",
      "81500\n",
      "82000\n",
      "82500\n",
      "83000\n",
      "83500\n",
      "84000\n",
      "84500\n",
      "85000\n",
      "85500\n",
      "86000\n",
      "86500\n",
      "87000\n",
      "87500\n",
      "88000\n",
      "88500\n",
      "89000\n",
      "89500\n",
      "90000\n",
      "90500\n",
      "91000\n",
      "91500\n",
      "92000\n",
      "92500\n",
      "93000\n",
      "93500\n",
      "94000\n",
      "94500\n",
      "95000\n",
      "95500\n",
      "96000\n",
      "96500\n",
      "97000\n",
      "97500\n",
      "98000\n",
      "98500\n",
      "99000\n",
      "99500\n",
      "100000\n",
      "100500\n",
      "101000\n",
      "101500\n",
      "102000\n",
      "102500\n",
      "103000\n",
      "103500\n",
      "104000\n",
      "104500\n",
      "105000\n",
      "105500\n",
      "106000\n",
      "106500\n",
      "107000\n",
      "107500\n",
      "108000\n",
      "108500\n",
      "109000\n",
      "109500\n",
      "110000\n",
      "110500\n",
      "111000\n",
      "111500\n",
      "0\n",
      "500\n",
      "1000\n",
      "1500\n",
      "2000\n",
      "2500\n",
      "3000\n",
      "3500\n",
      "4000\n",
      "4500\n",
      "5000\n",
      "5500\n",
      "6000\n",
      "6500\n",
      "7000\n",
      "7500\n",
      "8000\n",
      "8500\n",
      "9000\n",
      "9500\n",
      "10000\n",
      "10500\n",
      "11000\n",
      "11500\n",
      "12000\n",
      "12500\n",
      "13000\n",
      "13500\n",
      "14000\n",
      "14500\n",
      "15000\n",
      "15500\n",
      "16000\n",
      "16500\n",
      "17000\n",
      "17500\n",
      "18000\n",
      "18500\n",
      "19000\n",
      "19500\n",
      "20000\n",
      "20500\n",
      "21000\n",
      "21500\n",
      "22000\n",
      "22500\n",
      "23000\n",
      "23500\n",
      "24000\n",
      "24500\n",
      "25000\n",
      "25500\n",
      "26000\n",
      "26500\n",
      "27000\n",
      "27500\n"
     ]
    }
   ],
   "source": [
    "def non_seq_split(X_continuous, X_categorical,Y, test_size=0.2):\n",
    "    X_cont_train = X_continuous[:int(len(X_continuous) * (1 - test_size))]\n",
    "    X_cont_test = X_continuous[int(len(X_continuous) * (1 - test_size)):]\n",
    "    X_cat_train = X_categorical[:int(len(X_categorical) * (1 - test_size))]\n",
    "    X_cat_test = X_categorical[int(len(X_categorical) * (1 - test_size)):]\n",
    "    Y_train = Y[:int(len(Y) * (1 - test_size))]\n",
    "    Y_test = Y[int(len(Y) * (1 - test_size)):]\n",
    "    return X_cont_train, X_cat_train, X_cont_test, X_cat_test, Y_train, Y_test\n",
    "\n",
    "def trim(arr, size):\n",
    "    if isinstance(arr, tuple):\n",
    "        return tuple(a[size:] for a in arr)\n",
    "    else:\n",
    "        return arr[size:]\n",
    "\n",
    "X_cont_train, X_cat_train, X_cont_test, X_cat_test, y_train, y_test = trim(non_seq_split(X_continuous, X_categorical, df['Settlement Point Price_RTM'].values),96)\n",
    "\n",
    "def non_seq_scaler_minmax(X_cont_train, X_cont_test, Y_train, Y_test):\n",
    "    Xscaler = MinMaxScaler()\n",
    "    X_cont_train = Xscaler.fit_transform(X_cont_train)\n",
    "    X_cont_test = Xscaler.transform(X_cont_test)\n",
    "    Yscaler = MinMaxScaler()\n",
    "    Y_train = Y_train.reshape(-1, 1)\n",
    "    Y_test = Y_test.reshape(-1, 1)\n",
    "    Y_train = Yscaler.fit_transform(Y_train)\n",
    "    Y_test = Yscaler.transform(Y_test)\n",
    "    return X_cont_train, X_cont_test, Y_train, Y_test, Xscaler, Yscaler\n",
    "\n",
    "def non_seq_scaler_standardization(X_cont_train, X_cont_test, Y_train, Y_test):\n",
    "    Xscaler = StandardScaler()\n",
    "    X_cont_train = Xscaler.fit_transform(X_cont_train)\n",
    "    X_cont_test = Xscaler.transform(X_cont_test)\n",
    "    Yscaler = StandardScaler()\n",
    "    Y_train = Y_train.reshape(-1, 1)\n",
    "    Y_test = Y_test.reshape(-1, 1)\n",
    "    Y_train = Yscaler.fit_transform(Y_train)\n",
    "    Y_test = Yscaler.transform(Y_test)\n",
    "    return X_cont_train, X_cont_test, Y_train, Y_test, Xscaler, Yscaler\n",
    "\n",
    "X_cont_train, X_cont_test, y_train, y_test, Xscaler, Yscaler = non_seq_scaler_standardization(X_cont_train, X_cont_test, y_train, y_test)\n",
    "X_train = np.concatenate((X_cont_train, X_cat_train), axis=1)\n",
    "X_test = np.concatenate((X_cont_test, X_cat_test), axis=1)\n",
    "\n",
    "sequence_length = 192\n",
    "def rev_encode_data(X, y, lookback = 96, forecast=96):\n",
    "    \"\"\"\n",
    "    Encode the data for training an LSTM model, including creating sequences and splitting into input and target.\n",
    "\n",
    "    Parameters:\n",
    "    X (numpy.ndarray): The input data array.\n",
    "    y (numpy.ndarray): The target variable array.\n",
    "    lookback (int): The number of timesteps to look back (48 hours with 15 minute intervals).\n",
    "    forecast (int): The number of timesteps to forecast (24 hours with 15 minute intervals).\n",
    "\n",
    "    Returns:\n",
    "    X_seq (numpy.ndarray): The encoded input data with sequences.\n",
    "    y_seq (numpy.ndarray): The encoded target variable array with sequences.\n",
    "    \"\"\"\n",
    "\n",
    "    if len(X) != len(y):\n",
    "        raise ValueError(\"X and y must have the same length.\")\n",
    "    l = lookback\n",
    "    f = forecast\n",
    "    X_seq = []\n",
    "    y_seq = []\n",
    "\n",
    "    for i in range(len(X) - l - f + 1):\n",
    "        Xtemp = X[i:i+l+f]\n",
    "        ytemp = y[i+l:i+l+f]\n",
    "        X_seq.append(Xtemp)\n",
    "        y_seq.append(ytemp)\n",
    "        if i % 500 == 0:\n",
    "            print(i)\n",
    "\n",
    "    return np.array(X_seq), np.array(y_seq)\n",
    "\n",
    "\n",
    "# Encode the train and test data\n",
    "X_train_encoded, y_train_encoded = rev_encode_data(X_train, y_train, lookback=192, forecast=96)\n",
    "X_test_encoded, y_test_encoded = rev_encode_data(X_test, y_test, lookback=192, forecast=96)"
   ]
  },
  {
   "cell_type": "markdown",
   "metadata": {},
   "source": []
  },
  {
   "cell_type": "code",
   "execution_count": 26,
   "metadata": {},
   "outputs": [
    {
     "data": {
      "text/plain": [
       "1136"
      ]
     },
     "execution_count": 26,
     "metadata": {},
     "output_type": "execute_result"
    }
   ],
   "source": [
    "import gc\n",
    "gc.collect()"
   ]
  },
  {
   "cell_type": "code",
   "execution_count": 27,
   "metadata": {},
   "outputs": [
    {
     "data": {
      "text/plain": [
       "(32, 192, 45)"
      ]
     },
     "execution_count": 27,
     "metadata": {},
     "output_type": "execute_result"
    }
   ],
   "source": [
    "# ANOTHER OPTION - Keras utility to create timeseries batches. Notably, creates batches of size batch_size.\n",
    "# docs - https://www.tensorflow.org/api_docs/python/tf/keras/preprocessing/sequence/TimeseriesGenerator\n",
    "\n",
    "from keras.preprocessing.sequence import TimeseriesGenerator\n",
    "generator = TimeseriesGenerator(X_train, y_train, length=192, batch_size=32)\n",
    "generator[0][0].shape"
   ]
  },
  {
   "cell_type": "code",
   "execution_count": 28,
   "metadata": {},
   "outputs": [],
   "source": [
    "# BE AWARE: depeding on size of might want to stratify by months when splitting\n",
    "#train_test_split(X, Y_reshaped, months_reshaped, test_size=test_size, stratify=months_reshaped, random_state=42)"
   ]
  },
  {
   "cell_type": "code",
   "execution_count": 29,
   "metadata": {},
   "outputs": [],
   "source": [
    "def relative_mae(y_true, y_pred):\n",
    "    \"\"\"\n",
    "    Calculates the Relative Mean Absolute Error (Relative MAE). an arguably better metric is the relative MAE (rMAE). \n",
    "    Similar to MASE, rMAE normalizes the MAE by the MAE of a naive forecast. \n",
    "    However, instead of considering the in-sample dataset, the naive forecast is built based on the out-of-sample dataset.\n",
    "    \n",
    "    Parameters:\n",
    "        y_true (array-like): True values.\n",
    "        y_pred (array-like): Predicted values.\n",
    "        \n",
    "    Returns:\n",
    "        float: The Relative Mean Absolute Error.\n",
    "    \"\"\"\n",
    "    mae = np.mean(np.abs(y_pred - y_true))  # Calculate the Mean Absolute Error\n",
    "    mean_actual = np.mean(np.abs(y_true))  # Calculate the mean of absolute values of actual data\n",
    "    \n",
    "    return mae / mean_actual\n"
   ]
  },
  {
   "cell_type": "code",
   "execution_count": 30,
   "metadata": {},
   "outputs": [],
   "source": [
    "# def direction_accuracy(y_true, y_pred):\n",
    "#     \"\"\"\n",
    "#     For applications like virtual bidding, when it is difficult to predict the magnitude of the price difference,\n",
    "#     it is still valuable to predict the sign of the price difference where\n",
    "    \n",
    "#     Parameters\n",
    "#     n = total number of correctly detected direction (or sign) of price difference,\n",
    "#     N = total number of price differences. \n",
    "#     \"\"\"\n",
    "    \n",
    "#     # Calculate the number of correct directions\n",
    "#     n_true = \n",
    "#     n_pred = \n",
    "#     n = np.sum(np.sign(y_pred - y_pred.shift(1)) == np.sign(y_true - y_true.shift(1)))\n",
    "    \n",
    "#     # Calculate the total number of price differences\n",
    "#     N = len(y_true) - 1\n",
    "    \n",
    "#     return n / N\n",
    "    \n",
    "    \n",
    "    "
   ]
  },
  {
   "cell_type": "code",
   "execution_count": 31,
   "metadata": {},
   "outputs": [
    {
     "data": {
      "text/plain": [
       "<matplotlib.image.AxesImage at 0x283180390>"
      ]
     },
     "execution_count": 31,
     "metadata": {},
     "output_type": "execute_result"
    },
    {
     "data": {
      "image/png": "[encoded data removed]",
      "text/plain": [
       "<Figure size 480x480 with 1 Axes>"
      ]
     },
     "metadata": {},
     "output_type": "display_data"
    }
   ],
   "source": [
    "plt.matshow(df[['Settlement Point Price_DAM','Settlement Point Price_RTM','Settlement Point Price_RTM_lagged']].corr(), cmap='viridis')\n"
   ]
  },
  {
   "cell_type": "code",
   "execution_count": 32,
   "metadata": {},
   "outputs": [
    {
     "name": "stdout",
     "output_type": "stream",
     "text": [
      "Train shapes: X = (111846, 288, 45) y = (111846, 96, 1)\n",
      "Test shapes: X = (27675, 288, 45) y = (27675, 96, 1)\n"
     ]
    }
   ],
   "source": [
    "# Print shapes to verify\n",
    "print(\"Train shapes: X =\", X_train_encoded.shape, \"y =\", y_train_encoded.shape)\n",
    "#print(\"Validation shapes: X =\", X_val_encoded.shape, \"y =\", y_val_encoded.shape)\n",
    "print(\"Test shapes: X =\", X_test_encoded.shape, \"y =\", y_test_encoded.shape)\n",
    "\n",
    "# Optionally plot a few sequences\n",
    "import matplotlib.pyplot as plt\n",
    "\n",
    "def plot_sequences(X, y, title='Sample Sequences'):\n",
    "    plt.figure(figsize=(14, 6))\n",
    "    num_sequences = 3\n",
    "    for i in range(num_sequences):\n",
    "        plt.plot(X[i], label=f'Sequence {i} Features')\n",
    "        plt.plot(y[i], label=f'Sequence {i} Target', linestyle='--')\n",
    "    plt.title(title)\n",
    "    plt.xlabel('Time Steps')\n",
    "    plt.ylabel('Scaled Value')\n",
    "    plt.legend()\n",
    "    plt.show()\n",
    "\n",
    "#plot_sequences(X_train_encoded[:3], y_train_encoded[:3])\n"
   ]
  },
  {
   "cell_type": "code",
   "execution_count": 33,
   "metadata": {},
   "outputs": [],
   "source": [
    "# import dill\n",
    "# dill.dump(Xscaler, open('Xscaler.pkl', 'wb'))\n",
    "# dill.dump(Yscaler, open('Yscaler.pkl', 'wb'))\n",
    "# dill.dump(X_train_encoded, open('X_train_encoded.pkl', 'wb'))\n",
    "# dill.dump(X_test_encoded, open('X_test_encoded.pkl', 'wb'))\n",
    "# dill.dump(y_train_encoded, open('y_train_encoded.pkl', 'wb'))\n",
    "# dill.dump(y_test_encoded, open('y_test_encoded.pkl', 'wb'))"
   ]
  },
  {
   "cell_type": "code",
   "execution_count": 35,
   "metadata": {},
   "outputs": [
    {
     "name": "stdout",
     "output_type": "stream",
     "text": [
      "(32, 288, 45)\n",
      "Epoch 1/5\n",
      "3496/3496 [==============================] - 213s 60ms/step - loss: 1.0305 - mean_absolute_error: 0.1703 - val_loss: 0.5950 - val_mean_absolute_error: 0.1451\n",
      "Epoch 2/5\n",
      "3496/3496 [==============================] - 210s 60ms/step - loss: 0.9794 - mean_absolute_error: 0.1704 - val_loss: 0.6073 - val_mean_absolute_error: 0.1579\n",
      "Epoch 3/5\n",
      "3496/3496 [==============================] - 207s 59ms/step - loss: 0.9760 - mean_absolute_error: 0.1701 - val_loss: 0.5960 - val_mean_absolute_error: 0.1516\n",
      "Epoch 4/5\n",
      "3496/3496 [==============================] - 206s 59ms/step - loss: 0.9797 - mean_absolute_error: 0.1718 - val_loss: 0.6151 - val_mean_absolute_error: 0.1724\n",
      "Epoch 5/5\n",
      " 341/3496 [=>............................] - ETA: 2:54 - loss: 1.0617 - mean_absolute_error: 0.1734"
     ]
    }
   ],
   "source": [
    "batch_size = 32\n",
    "sequence_length = 192\n",
    "\n",
    "input_shape = (batch_size,X_train_encoded.shape[1], X_train_encoded.shape[2])  # (num_timesteps, num_features)\n",
    "print(input_shape)\n",
    "BiLSTM_3layers = Sequential()\n",
    "#BiLSTM_3layers.add(Bidirectional(LSTM(128, return_sequences=True, activation='tanh', kernel_regularizer=l2(0.01)), input_shape=input_shape))\n",
    "BiLSTM_3layers.add(Bidirectional(LSTM(32, return_sequences=True, activation='tanh', kernel_regularizer=l2(0.01))))\n",
    "BiLSTM_3layers.add(Bidirectional(LSTM(10, return_sequences=False, activation='tanh', kernel_regularizer=l2(0.01))))\n",
    "BiLSTM_3layers.add(Dense(1))\n",
    "BiLSTM_3layers.compile(optimizer='adam', loss='mse', metrics=[\"mean_absolute_error\"])\n",
    "#BiLSTM_3layers.build(input_shape)\n",
    "# Train model on CPU\n",
    "os.environ[\"CUDA_VISIBLE_DEVICES\"] = \"-1\"\n",
    "\n",
    "\n",
    "# Train model\n",
    "#model_3.fit(X_train, y_train, epochs=100, batch_size=1, verbose=2)\n",
    "# Train the model\n",
    "# need to fix val TODO\n",
    "# Define batch size and sequence length\n",
    "\n",
    "\n",
    "\n",
    "\n",
    "# # Create TimeseriesGenerator for training data\n",
    "# train_generator = TimeseriesGenerator(X_train, y_train, length=sequence_length, batch_size=batch_size)\n",
    "\n",
    "# # Create TimeseriesGenerator for validation data\n",
    "# val_generator = TimeseriesGenerator(X_test, y_test, length=sequence_length, batch_size=batch_size)\n",
    "\n",
    "# Train model using generator\n",
    "history = BiLSTM_3layers.fit(X_train_encoded,y_train_encoded, batch_size=batch_size, epochs=5, validation_data=(X_test_encoded, y_test_encoded))\n",
    "\n"
   ]
  },
  {
   "cell_type": "code",
   "execution_count": null,
   "metadata": {},
   "outputs": [],
   "source": [
    "# Save model in model_outputs folder\n",
    "# Save model\n",
    "BiLSTM_3layers.save('Model_Outputs/model_BiLSTM_3layers_'+str(dt.datetime.now())+'.keras')\n"
   ]
  },
  {
   "cell_type": "markdown",
   "metadata": {},
   "source": [
    "Key Qs\n",
    "- does the y need to be 96 long or am I just predicting the single point?\n",
    "- can I preserve one hot sparse arrays?\n",
    "\n",
    "Next \n",
    "- time series crossvalidation\n",
    "- addnl features\n",
    "- plot day ahead on the graph\n",
    "\n",
    "issue of test / pred alignment once everything is turned into a sequence - ValueError: Data cardinality is ambiguous:\n",
    "  x sizes: 111846\n",
    "  y sizes: 112133"
   ]
  },
  {
   "cell_type": "code",
   "execution_count": null,
   "metadata": {},
   "outputs": [
    {
     "name": "stdout",
     "output_type": "stream",
     "text": [
      "515/515 [==============================] - 8s 14ms/step\n"
     ]
    },
    {
     "data": {
      "text/plain": [
       "array([101.543465, 105.9525  , 109.77777 , ...,  32.98256 ,  32.888783,\n",
       "        32.786755], dtype=float32)"
      ]
     },
     "execution_count": 70,
     "metadata": {},
     "output_type": "execute_result"
    }
   ],
   "source": [
    "## NEW prediction code\n",
    "# predictions = BiLSTM_3layers.predict(X_test_encoded)\n",
    "# predictions = Yscaler.inverse_transform(predictions)\n",
    "# predictions = predictions.reshape(-1)\n",
    "# predictions"
   ]
  },
  {
   "cell_type": "code",
   "execution_count": null,
   "metadata": {},
   "outputs": [
    {
     "data": {
      "image/png": "[encoded data removed]",
      "text/plain": [
       "<Figure size 640x480 with 1 Axes>"
      ]
     },
     "metadata": {},
     "output_type": "display_data"
    }
   ],
   "source": [
    "# Plot training & validation loss values\n",
    "plt.plot(history.history['loss'], label='Train')\n",
    "plt.plot(history.history['val_loss'], label='Validation')\n",
    "plt.title('Model loss')\n",
    "plt.ylabel('Loss')\n",
    "plt.xlabel('Epoch')\n",
    "plt.legend(loc='upper right')\n",
    "plt.show()\n",
    "\n",
    "# "
   ]
  },
  {
   "cell_type": "code",
   "execution_count": null,
   "metadata": {},
   "outputs": [],
   "source": []
  },
  {
   "cell_type": "code",
   "execution_count": null,
   "metadata": {},
   "outputs": [
    {
     "ename": "NameError",
     "evalue": "name 'BiLSTM_3layers' is not defined",
     "output_type": "error",
     "traceback": [
      "\u001b[0;31m---------------------------------------------------------------------------\u001b[0m",
      "\u001b[0;31mNameError\u001b[0m                                 Traceback (most recent call last)",
      "Cell \u001b[0;32mIn[5], line 1\u001b[0m\n\u001b[0;32m----> 1\u001b[0m predictions \u001b[38;5;241m=\u001b[39m \u001b[43mBiLSTM_3layers\u001b[49m\u001b[38;5;241m.\u001b[39mpredict(X_test_encoded)\n\u001b[1;32m      2\u001b[0m predictions \u001b[38;5;241m=\u001b[39m Yscaler\u001b[38;5;241m.\u001b[39minverse_transform(predictions)\n\u001b[1;32m      3\u001b[0m predictions \u001b[38;5;241m=\u001b[39m predictions\u001b[38;5;241m.\u001b[39mreshape(\u001b[38;5;241m-\u001b[39m\u001b[38;5;241m1\u001b[39m)\n",
      "\u001b[0;31mNameError\u001b[0m: name 'BiLSTM_3layers' is not defined"
     ]
    }
   ],
   "source": [
    "predictions = BiLSTM_3layers.predict(X_test_encoded)\n",
    "predictions = Yscaler.inverse_transform(predictions)\n",
    "predictions = predictions.reshape(-1)\n",
    "predictions\n",
    "y_test_nonscale = Yscaler.inverse_transform(y_test)\n",
    "\n",
    "print(X_test.shape)\n",
    "print(y_test.shape)\n",
    "# cut off the first of the tests\n",
    "print(predictions.shape)\n",
    "print(y_test_nonscale.shape)\n"
   ]
  },
  {
   "cell_type": "code",
   "execution_count": null,
   "metadata": {},
   "outputs": [],
   "source": [
    "pred_df = pd.DataFrame({'Actual': y_test_nonscale, 'Predicted': predictions})"
   ]
  },
  {
   "cell_type": "code",
   "execution_count": null,
   "metadata": {},
   "outputs": [
    {
     "ename": "NameError",
     "evalue": "name 'np' is not defined",
     "output_type": "error",
     "traceback": [
      "\u001b[0;31m---------------------------------------------------------------------------\u001b[0m",
      "\u001b[0;31mNameError\u001b[0m                                 Traceback (most recent call last)",
      "Cell \u001b[0;32mIn[1], line 8\u001b[0m\n\u001b[1;32m      1\u001b[0m \u001b[38;5;66;03m# Calculate the Mean Absolute Error\u001b[39;00m\n\u001b[1;32m      2\u001b[0m \u001b[38;5;66;03m#mae_BiLSTM_3layers = mean_absolute_error(y_test, y_pred_BiLST_3layers)\u001b[39;00m\n\u001b[1;32m      3\u001b[0m \u001b[38;5;66;03m#print(f'Mean Absolute Error: {mae_BiLSTM_3layers:.2f}')\u001b[39;00m\n\u001b[0;32m   (...)\u001b[0m\n\u001b[1;32m      6\u001b[0m \u001b[38;5;66;03m# mse_BiLSTM_3layers = mean_squared_error(y_test, y_pred_BiLST_3layers)\u001b[39;00m\n\u001b[1;32m      7\u001b[0m \u001b[38;5;66;03m# print(f'Mean Squared Error: {mse_BiLSTM_3layers:.2f}')\u001b[39;00m\n\u001b[0;32m----> 8\u001b[0m shifted_predictions \u001b[38;5;241m=\u001b[39m \u001b[43mnp\u001b[49m\u001b[38;5;241m.\u001b[39mroll(predictions, \u001b[38;5;241m288\u001b[39m)\n\u001b[1;32m      9\u001b[0m plot_comparison(shifted_predictions, y_test_nonscale, startx\u001b[38;5;241m=\u001b[39m\u001b[38;5;241m0\u001b[39m, endx\u001b[38;5;241m=\u001b[39m\u001b[38;5;241m0\u001b[39m\u001b[38;5;241m+\u001b[39m\u001b[38;5;241m96\u001b[39m\u001b[38;5;241m*\u001b[39m\u001b[38;5;241m8\u001b[39m, starty\u001b[38;5;241m=\u001b[39m\u001b[38;5;241m0\u001b[39m, endy\u001b[38;5;241m=\u001b[39m\u001b[38;5;241m100\u001b[39m)\n",
      "\u001b[0;31mNameError\u001b[0m: name 'np' is not defined"
     ]
    }
   ],
   "source": [
    "\n",
    "# Calculate the Mean Absolute Error\n",
    "#mae_BiLSTM_3layers = mean_absolute_error(y_test, y_pred_BiLST_3layers)\n",
    "#print(f'Mean Absolute Error: {mae_BiLSTM_3layers:.2f}')\n",
    "\n",
    "# # Calculate the Mean Squared Error\n",
    "# mse_BiLSTM_3layers = mean_squared_error(y_test, y_pred_BiLST_3layers)\n",
    "# print(f'Mean Squared Error: {mse_BiLSTM_3layers:.2f}')\n",
    "# shifted_predictions = np.roll(predictions, 288)\n",
    "plot_comparison(predictions, y_test_nonscale, startx=0, endx=0+96*8, starty=0, endy=100)"
   ]
  },
  {
   "cell_type": "markdown",
   "metadata": {},
   "source": [
    "Troubleshooting:\n",
    "\n",
    "Check the variance in your y_train to ensure there is enough variance to predict.\n",
    "\n",
    "Try using a different activation function like 'tanh' or 'sigmoid'.\n",
    "\n",
    "Experiment with different architectures, reducing the complexity of the model.\n",
    "\n",
    "Scale back the L2 regularization (i.e., lower the lambda value).\n",
    "\n",
    "Try different batch sizes and number of epochs.\n",
    "\n",
    "Plot the training and validation loss to see if the model is learning over time.\n"
   ]
  },
  {
   "cell_type": "code",
   "execution_count": null,
   "metadata": {},
   "outputs": [
    {
     "name": "stdout",
     "output_type": "stream",
     "text": [
      "2/2 [==============================] - 0s 78ms/step\n"
     ]
    },
    {
     "data": {
      "text/plain": [
       "(148, 192, 57)"
      ]
     },
     "execution_count": 168,
     "metadata": {},
     "output_type": "execute_result"
    }
   ],
   "source": [
    "X, y = encode_data(df=df)\n",
    "# Use the function to trim the data\n",
    "X_trimmed, y_trimmed = trim_data(X, y)\n",
    "X_train, X_test, y_train, y_test, scaler_X, scaler_y = prep_LSTM_data(X=X_trimmed, y=y_trimmed)\n",
    "\n",
    "# Make predictions\n",
    "y_pred_3 = BiLSTM_3layers.predict(X_test)\n",
    "# Flatten predictions and actual data\n",
    "y_pred_3_flat = y_pred_3.reshape(-1)\n",
    "y_test_flat = y_test.reshape(-1)\n",
    "\n",
    "# In case these were not inverse transformed after prediction, do it here\n",
    "y_pred_3_flat = scaler_y.inverse_transform(y_pred_3_flat.reshape(-1, 1)).flatten()\n",
    "y_test_flat = scaler_y.inverse_transform(y_test_flat.reshape(-1, 1)).flatten()\n",
    "\n",
    "\n",
    "# # Show accuracy\n",
    "# mse = mean_squared_error(y_test_flat, y_pred_3_flat)\n",
    "# rmse = np.sqrt(mse)\n",
    "# print(f'Root Mean Squared Error: {rmse}')\n",
    "# print(f'Accuracy: {100 - mse}%')\n",
    "\n",
    "# Now you can call the plot_comparison function with properly formatted data\n",
    "#plot_comparison(y_pred_3_flat, y_test_flat, startx=1700, endx=2000, starty=-10, endy=200)\n",
    "X_train.shape"
   ]
  },
  {
   "cell_type": "code",
   "execution_count": null,
   "metadata": {},
   "outputs": [
    {
     "ename": "NameError",
     "evalue": "name 'y_test_flattened' is not defined",
     "output_type": "error",
     "traceback": [
      "\u001b[0;31m---------------------------------------------------------------------------\u001b[0m",
      "\u001b[0;31mNameError\u001b[0m                                 Traceback (most recent call last)",
      "Cell \u001b[0;32mIn[161], line 1\u001b[0m\n\u001b[0;32m----> 1\u001b[0m \u001b[38;5;28mprint\u001b[39m(\u001b[38;5;124mf\u001b[39m\u001b[38;5;124m\"\u001b[39m\u001b[38;5;124mShape of y_test: \u001b[39m\u001b[38;5;132;01m{\u001b[39;00m\u001b[43my_test_flattened\u001b[49m\u001b[38;5;241m.\u001b[39mshape\u001b[38;5;132;01m}\u001b[39;00m\u001b[38;5;124m\"\u001b[39m)\n\u001b[1;32m      2\u001b[0m \u001b[38;5;28mprint\u001b[39m(\u001b[38;5;124mf\u001b[39m\u001b[38;5;124m\"\u001b[39m\u001b[38;5;124mShape of y_pred_3: \u001b[39m\u001b[38;5;132;01m{\u001b[39;00my_pred_3\u001b[38;5;241m.\u001b[39mshape\u001b[38;5;132;01m}\u001b[39;00m\u001b[38;5;124m\"\u001b[39m)\n",
      "\u001b[0;31mNameError\u001b[0m: name 'y_test_flattened' is not defined"
     ]
    }
   ],
   "source": [
    "print(f\"Shape of y_test: {y_test_flattened.shape}\")\n",
    "print(f\"Shape of y_pred_3: {y_pred_3.shape}\")\n"
   ]
  },
  {
   "cell_type": "code",
   "execution_count": null,
   "metadata": {},
   "outputs": [
    {
     "name": "stderr",
     "output_type": "stream",
     "text": [
      "/Users/lesarmstrong/miniconda3/envs/1.c51-env/lib/python3.11/site-packages/keras/src/engine/training.py:3103: UserWarning: You are saving your model as an HDF5 file via `model.save()`. This file format is considered legacy. We recommend using instead the native Keras format, e.g. `model.save('my_model.keras')`.\n",
      "  saving_api.save_model(\n"
     ]
    }
   ],
   "source": [
    "# Save model_3\n",
    "BiLSTM_3layers.save('model_3.h5')\n",
    "\n",
    "# Load model_3\n",
    "from keras.models import load_model\n",
    "BiLSTM_3layers = load_model('model_3.h5')\n"
   ]
  },
  {
   "cell_type": "markdown",
   "metadata": {},
   "source": [
    "# Seq2Seq"
   ]
  },
  {
   "cell_type": "code",
   "execution_count": null,
   "metadata": {},
   "outputs": [],
   "source": [
    "import tensorflow as tf\n",
    "from keras.models import Model\n",
    "from keras.layers import Input, LSTM, Dense, Dropout"
   ]
  },
  {
   "cell_type": "code",
   "execution_count": null,
   "metadata": {},
   "outputs": [],
   "source": [
    "# def create_sequences(X, y, input_length, prediction_length):\n",
    "#     X_seq, y_seq = [], []\n",
    "#     for i in range(len(X) - input_length - prediction_length + 1):\n",
    "#         X_seq.append(X[i:(i + input_length)])\n",
    "#         y_seq.append(y[(i + input_length):(i + input_length + prediction_length)])\n",
    "#     return np.array(X_seq), np.array(y_seq)\n",
    "\n",
    "# X, y = encode_data()\n",
    "\n",
    "# input_seq_length = 48 * 4  # 48 hours with 15-minute intervals\n",
    "# output_seq_length = 24 * 4  # 24 hours with 15-minute intervals\n",
    "\n",
    "# X_sequences, y_sequences = create_sequences(X, y, input_seq_length, output_seq_length)\n",
    "# y_sequences = y_sequences.reshape(y_sequences.shape[0], y_sequences.shape[1], 1)  # Reshaping for model compatibility\n",
    "\n",
    "# # Split data into training and testing sets\n",
    "# X_train, X_test, y_train, y_test = train_test_split(X_sequences, y_sequences, test_size=0.2, random_state=42)\n"
   ]
  },
  {
   "cell_type": "markdown",
   "metadata": {},
   "source": [
    "### Model 3\n",
    "\n",
    "input_seq_length: This should be the number of time steps you want your model to consider for each input sequence. It’s a hyperparameter you set based on your data or problem specifics.\n",
    "\n",
    "output_seq_length: This is similar but for the output. For some sequence-to-sequence models, this might be the same as the input sequence length, or it might be different, such as when predicting future values or translating sentences to another language with different sentence lengths."
   ]
  },
  {
   "cell_type": "code",
   "execution_count": null,
   "metadata": {},
   "outputs": [
    {
     "data": {
      "text/plain": [
       "57"
      ]
     },
     "execution_count": 123,
     "metadata": {},
     "output_type": "execute_result"
    }
   ],
   "source": [
    "# X, y = encode_data()\n",
    "\n",
    "# input_seq_length = 48 * 4  # 48 hours with 15-minute intervals\n",
    "# output_seq_length = 24 * 4  # 24 hours with 15-minute intervals\n",
    "\n",
    "# X_sequences, y_sequences = create_sequences(X, y, input_seq_length, output_seq_length)\n",
    "# y_sequences = y_sequences.reshape(y_sequences.shape[0], y_sequences.shape[1], 1)  # Reshaping for model compatibility\n",
    "\n",
    "# # Split data into training and testing sets\n",
    "# X_train, X_test, y_train, y_test = train_test_split(X_sequences, y_sequences, test_size=0.2, random_state=42)\n",
    "\n",
    "# X_train.shape[2]"
   ]
  },
  {
   "cell_type": "code",
   "execution_count": null,
   "metadata": {},
   "outputs": [
    {
     "name": "stdout",
     "output_type": "stream",
     "text": [
      "(28276, 192, 57) (7069, 192, 57) (28276, 96, 1) (7069, 96, 1)\n"
     ]
    }
   ],
   "source": [
    "# print(X_train.shape, X_test.shape, y_train.shape, y_test.shape)"
   ]
  },
  {
   "cell_type": "code",
   "execution_count": null,
   "metadata": {},
   "outputs": [],
   "source": [
    "# df_trimmed = trim_data(df)\n",
    "# X, y, months = encode_data(df=df_trimmed)\n",
    "# # Use the function to trim the data\n",
    "# #X_trimmed, y_trimmed = trim_data(X, y)\n",
    "# X_train_scaled, X_val_scaled, X_test_scaled, y_train_scaled, y_val_scaled, y_test_scaled, scaler_X, scaler_y = prep_LSTM_data(X=X, y=y, months=months)\n",
    "# input_shape = (X_train_scaled.shape[1], X_train_scaled.shape[2])  # (num_timesteps, num_features)"
   ]
  },
  {
   "cell_type": "code",
   "execution_count": null,
   "metadata": {},
   "outputs": [
    {
     "name": "stdout",
     "output_type": "stream",
     "text": [
      "Model: \"model_12\"\n",
      "__________________________________________________________________________________________________\n",
      " Layer (type)                Output Shape                 Param #   Connected to                  \n",
      "==================================================================================================\n",
      " input_31 (InputLayer)       [(None, 192, 57)]            0         []                            \n",
      "                                                                                                  \n",
      " lstm_73 (LSTM)              [(None, 192, 128),           95232     ['input_31[0][0]']            \n",
      "                              (None, 128),                                                        \n",
      "                              (None, 128)]                                                        \n",
      "                                                                                                  \n",
      " lstm_74 (LSTM)              [(None, 192, 64),            49408     ['lstm_73[0][0]']             \n",
      "                              (None, 64),                                                         \n",
      "                              (None, 64)]                                                         \n",
      "                                                                                                  \n",
      " input_32 (InputLayer)       [(None, 96, 1)]              0         []                            \n",
      "                                                                                                  \n",
      " lstm_75 (LSTM)              [(None, 32),                 12416     ['lstm_74[0][0]']             \n",
      "                              (None, 32),                                                         \n",
      "                              (None, 32)]                                                         \n",
      "                                                                                                  \n",
      " lstm_76 (LSTM)              [(None, 96, 32),             4352      ['input_32[0][0]',            \n",
      "                              (None, 32),                            'lstm_75[0][1]',             \n",
      "                              (None, 32)]                            'lstm_75[0][2]']             \n",
      "                                                                                                  \n",
      " dropout_12 (Dropout)        (None, 96, 32)               0         ['lstm_76[0][0]']             \n",
      "                                                                                                  \n",
      " dense_17 (Dense)            (None, 96, 1)                33        ['dropout_12[0][0]']          \n",
      "                                                                                                  \n",
      "==================================================================================================\n",
      "Total params: 161441 (630.63 KB)\n",
      "Trainable params: 161441 (630.63 KB)\n",
      "Non-trainable params: 0 (0.00 Byte)\n",
      "__________________________________________________________________________________________________\n"
     ]
    }
   ],
   "source": [
    "\n",
    "# Define input sequence length and the number of features\n",
    "input_seq_length = 48 * 4  # 48 hours x 4, 15 minutes intervals \n",
    "output_seq_length = 24 * 4  # 24 hours x 4, 15 minutes intervals\n",
    "num_features = X_train_encoded.shape[2]  # Adjust this to match the second dimension of X_train after preprocessing\n",
    "\n",
    "## SEQ2SEQ architecture\n",
    "\n",
    "# Define the input shape for the encoder\n",
    "encoder_inputs = Input(shape=(input_seq_length, num_features))\n",
    "\n",
    "# Define the LSTM layers with dropout as you had previously set them up\n",
    "encoder_lstm1 = LSTM(128, return_sequences=True, return_state=True, dropout=0.2)\n",
    "encoder_outputs1, state_h1, state_c1 = encoder_lstm1(encoder_inputs)\n",
    "\n",
    "encoder_lstm2 = LSTM(64, return_sequences=True, return_state=True, dropout=0.2)\n",
    "encoder_outputs2, state_h2, state_c2 = encoder_lstm2(encoder_outputs1)\n",
    "\n",
    "encoder_lstm3 = LSTM(32, return_state=True, dropout=0.2)\n",
    "encoder_outputs3, state_h3, state_c3 = encoder_lstm3(encoder_outputs2)\n",
    "encoder_states = [state_h3, state_c3]\n",
    "\n",
    "# Define the decoder input and LSTM layer with dropout using the last encoder states as initial state\n",
    "decoder_inputs = Input(shape=(output_seq_length, 1))  # Assuming the output feature is 1\n",
    "decoder_lstm = LSTM(32, return_sequences=True, return_state=False, dropout=0.2)\n",
    "decoder_outputs = decoder_lstm(decoder_inputs, initial_state=encoder_states)\n",
    "\n",
    "# Add a dropout layer after the LSTM layers\n",
    "decoder_dropout = Dropout(0.2)(decoder_outputs)\n",
    "\n",
    "# Define the dense output layer\n",
    "decoder_dense = Dense(1, activation='linear')\n",
    "decoder_outputs = decoder_dense(decoder_dropout)\n",
    "\n",
    "# Define the Seq2Seq model that will turn `encoder_inputs` & `decoder_inputs` into `decoder_outputs`\n",
    "model = Model([encoder_inputs, decoder_inputs], decoder_outputs)\n",
    "\n",
    "# Compile the model\n",
    "model.compile(optimizer='adam', loss='mse', metrics=['mae'])\n",
    "\n",
    "# Summary of the model\n",
    "model.summary()\n"
   ]
  },
  {
   "cell_type": "code",
   "execution_count": null,
   "metadata": {},
   "outputs": [
    {
     "name": "stdout",
     "output_type": "stream",
     "text": [
      "Epoch 1/10\n",
      "442/442 [==============================] - 179s 381ms/step - loss: 5777.6396 - mae: 14.0405 - val_loss: 6221.1357 - val_mae: 9.7268\n",
      "Epoch 2/10\n",
      "442/442 [==============================] - 177s 400ms/step - loss: 5609.6436 - mae: 9.9086 - val_loss: 6186.1729 - val_mae: 10.2030\n",
      "Epoch 3/10\n",
      "442/442 [==============================] - 185s 418ms/step - loss: 5598.8970 - mae: 10.5413 - val_loss: 6184.3032 - val_mae: 10.7283\n",
      "Epoch 4/10\n",
      "442/442 [==============================] - 173s 391ms/step - loss: 5598.2153 - mae: 10.7657 - val_loss: 6184.2856 - val_mae: 10.7505\n",
      "Epoch 5/10\n",
      "442/442 [==============================] - 166s 376ms/step - loss: 5598.4697 - mae: 10.7884 - val_loss: 6184.3560 - val_mae: 10.6792\n",
      "Epoch 6/10\n",
      "442/442 [==============================] - 166s 375ms/step - loss: 5598.3394 - mae: 10.7045 - val_loss: 6184.2852 - val_mae: 10.9283\n",
      "Epoch 7/10\n",
      "442/442 [==============================] - 218s 495ms/step - loss: 5598.3228 - mae: 10.8359 - val_loss: 6184.3428 - val_mae: 10.6898\n",
      "Epoch 8/10\n",
      "442/442 [==============================] - 198s 448ms/step - loss: 5598.1719 - mae: 10.7740 - val_loss: 6184.4561 - val_mae: 10.6170\n",
      "Epoch 9/10\n",
      "442/442 [==============================] - 179s 404ms/step - loss: 5598.2544 - mae: 10.7327 - val_loss: 6184.2900 - val_mae: 10.7532\n",
      "Epoch 10/10\n",
      "442/442 [==============================] - 181s 409ms/step - loss: 5597.7314 - mae: 10.6166 - val_loss: 6192.2100 - val_mae: 9.4366\n"
     ]
    }
   ],
   "source": [
    "# Create a Zero-Padded Initial Input for the Decoder\n",
    "decoder_input_train = np.zeros((y_train.shape[0], y_train.shape[1], 1))  # \n",
    "decoder_input_test = np.zeros((y_test.shape[0], y_test.shape[1], 1))  # \n",
    "\n",
    "## TODO do we train on encoded sequences?\n",
    "history = model.fit(\n",
    "    [X_train, decoder_input_train],  # Provide initial state for the decoder\n",
    "    y_train,                         # Actual target outputs for training\n",
    "    epochs=10,\n",
    "    batch_size=64,\n",
    "    validation_data=([X_test, decoder_input_test], y_test)  # Similar setup for validation\n",
    ")\n"
   ]
  },
  {
   "cell_type": "code",
   "execution_count": null,
   "metadata": {},
   "outputs": [
    {
     "name": "stdout",
     "output_type": "stream",
     "text": [
      "221/221 [==============================] - 21s 82ms/step\n"
     ]
    }
   ],
   "source": [
    "# Create the initial input for the decoder for prediction\n",
    "decoder_input_test = np.zeros((y_test.shape[0], y_test.shape[1], 1))  # Assuming the same shape as during training\n",
    "\n",
    "# Make predictions using the model\n",
    "predictions = model.predict([X_test, decoder_input_test])"
   ]
  },
  {
   "cell_type": "code",
   "execution_count": null,
   "metadata": {},
   "outputs": [],
   "source": [
    "# Flatten the predictions and actual values if they are in three dimensions\n",
    "predictions = predictions.reshape(-1)\n",
    "actual = y_test.reshape(-1)\n"
   ]
  },
  {
   "cell_type": "code",
   "execution_count": null,
   "metadata": {},
   "outputs": [
    {
     "name": "stdout",
     "output_type": "stream",
     "text": [
      "Mean Squared Error: 6192.209068663043\n",
      "Mean Absolute Error: 9.436576292437172\n"
     ]
    },
    {
     "data": {
      "image/png": "[encoded data removed]",
      "text/plain": [
       "<Figure size 1200x600 with 1 Axes>"
      ]
     },
     "metadata": {},
     "output_type": "display_data"
    },
    {
     "data": {
      "image/png": "[encoded data removed]",
      "text/plain": [
       "<Figure size 1200x600 with 1 Axes>"
      ]
     },
     "metadata": {},
     "output_type": "display_data"
    },
    {
     "data": {
      "image/png": "[encoded data removed]",
      "text/plain": [
       "<Figure size 1200x600 with 1 Axes>"
      ]
     },
     "metadata": {},
     "output_type": "display_data"
    },
    {
     "data": {
      "image/png": "[encoded data removed]",
      "text/plain": [
       "<Figure size 1200x600 with 1 Axes>"
      ]
     },
     "metadata": {},
     "output_type": "display_data"
    }
   ],
   "source": [
    "mse = mean_squared_error(actual, predictions)\n",
    "mae = mean_absolute_error(actual, predictions)\n",
    "print(f\"Mean Squared Error: {mse}\")\n",
    "print(f\"Mean Absolute Error: {mae}\")\n",
    "\n",
    "# Plot the overall comparison\n",
    "plot_comparison(predictions, actual)\n",
    "\n",
    "# Plot a specific interval for detailed analysis\n",
    "start_index = 100  # example start index\n",
    "end_index = 200    # example end index\n",
    "plot_comparison(predictions, actual, startx=start_index, endx=end_index)\n"
   ]
  },
  {
   "cell_type": "code",
   "execution_count": null,
   "metadata": {},
   "outputs": [],
   "source": []
  },
  {
   "cell_type": "markdown",
   "metadata": {},
   "source": [
    "## Bands"
   ]
  },
  {
   "cell_type": "code",
   "execution_count": null,
   "metadata": {},
   "outputs": [
    {
     "data": {
      "text/plain": [
       "(7127, 1)"
      ]
     },
     "execution_count": 76,
     "metadata": {},
     "output_type": "execute_result"
    }
   ],
   "source": [
    "    y_test.shape"
   ]
  },
  {
   "cell_type": "markdown",
   "metadata": {},
   "source": []
  },
  {
   "cell_type": "markdown",
   "metadata": {},
   "source": []
  }
 ],
 "metadata": {
  "kernelspec": {
   "display_name": "Python 3 (ipykernel)",
   "language": "python",
   "name": "python3"
  },
  "language_info": {
   "codemirror_mode": {
    "name": "ipython",
    "version": 3
   },
   "file_extension": ".py",
   "mimetype": "text/x-python",
   "name": "python",
   "nbconvert_exporter": "python",
   "pygments_lexer": "ipython3",
   "version": "3.11.8"
  }
 },
 "nbformat": 4,
 "nbformat_minor": 4
}
